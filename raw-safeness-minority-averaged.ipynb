{
 "cells": [
  {
   "cell_type": "code",
   "execution_count": 1,
   "metadata": {},
   "outputs": [
    {
     "name": "stderr",
     "output_type": "stream",
     "text": [
      "/home/dhorna/anaconda3/envs/mgr/lib/python3.7/site-packages/sklearn/utils/deprecation.py:143: FutureWarning: The sklearn.datasets.base module is  deprecated in version 0.22 and will be removed in version 0.24. The corresponding classes / functions should instead be imported from sklearn.datasets. Anything that cannot be imported from sklearn.datasets is now part of the private API.\n",
      "  warnings.warn(message, FutureWarning)\n"
     ]
    }
   ],
   "source": [
    "from multi_imbalance.datasets import load_datasets\n",
    "import experiment_v2 as ex\n",
    "from sklearn.model_selection import StratifiedKFold\n",
    "from collections import Counter, defaultdict\n",
    "from multi_imbalance.utils.metrics import gmean_score\n",
    "from sklearn.metrics import f1_score\n",
    "from sklearn.ensemble import RandomForestClassifier\n",
    "from sklearn.neighbors import KNeighborsClassifier\n",
    "import numpy as np\n",
    "import pandas as pd\n",
    "from sklearn.tree import DecisionTreeClassifier\n",
    "from utils import plot_embeddings\n",
    "from sklearn.decomposition import PCA\n",
    "import matplotlib.pyplot as plt\n",
    "from sklearn.discriminant_analysis import LinearDiscriminantAnalysis, QuadraticDiscriminantAnalysis"
   ]
  },
  {
   "cell_type": "code",
   "execution_count": 2,
   "metadata": {},
   "outputs": [],
   "source": [
    "datasets = load_datasets()"
   ]
  },
  {
   "cell_type": "code",
   "execution_count": 3,
   "metadata": {},
   "outputs": [],
   "source": [
    "ds_name = 'dermatology'\n",
    "test_on_all_folds = True\n",
    "test_all_ds = True"
   ]
  },
  {
   "cell_type": "code",
   "execution_count": 4,
   "metadata": {},
   "outputs": [],
   "source": [
    "datasets = ex.one_hot_encode_all(datasets)"
   ]
  },
  {
   "cell_type": "code",
   "execution_count": 5,
   "metadata": {},
   "outputs": [],
   "source": [
    "from experiment import dt_name_to_cols_to_encode\n",
    "from experiment import dt_name_minority_classes"
   ]
  },
  {
   "cell_type": "code",
   "execution_count": 6,
   "metadata": {},
   "outputs": [],
   "source": [
    "from sklearn.neighbors import KNeighborsClassifier\n",
    "\n",
    "def calc_safety5(X,y, clazz=None):\n",
    "    result = {\n",
    "        \"safe\":0,\n",
    "        \"borderline\":0,\n",
    "        \"rare\":0,\n",
    "        \"outlier\":0\n",
    "    }\n",
    "    neigh = KNeighborsClassifier(n_neighbors=5)\n",
    "    neigh.fit(X, y)\n",
    "    neighbors = neigh.kneighbors(X, 5+1, False)\n",
    "    for i, (x, nbors) in enumerate(list(zip(X, neighbors))):\n",
    "        if y[i] == clazz:\n",
    "            same_class_nbrs = (y[nbors[1:]] == y[i]).sum()\n",
    "            if same_class_nbrs >= 4:\n",
    "                result['safe'] += 1\n",
    "            elif same_class_nbrs >= 2:\n",
    "                result['borderline'] += 1\n",
    "            elif same_class_nbrs == 1:\n",
    "                result['rare'] += 1\n",
    "            else:\n",
    "                result['outlier'] += 1\n",
    "    return result"
   ]
  },
  {
   "cell_type": "code",
   "execution_count": 7,
   "metadata": {},
   "outputs": [],
   "source": [
    "def standardize(X_train, X_test):\n",
    "    means = X_train.mean(axis=0)\n",
    "    stds = X_train.std(axis=0)\n",
    "    return (X_train - means) / (stds+1e-6), (X_test - means) / (stds + 1e-6)"
   ]
  },
  {
   "cell_type": "code",
   "execution_count": 8,
   "metadata": {
    "scrolled": true
   },
   "outputs": [
    {
     "name": "stdout",
     "output_type": "stream",
     "text": [
      "cmc\n",
      "dermatology\n",
      "hayes-roth\n",
      "new_vehicle\n",
      "new_yeast\n",
      "1czysty-cut\n",
      "2delikatne-cut\n",
      "3mocniej-cut\n",
      "4delikatne-bezover-cut\n",
      "balance-scale\n",
      "cleveland\n",
      "cleveland_v2\n",
      "glass\n",
      "new_ecoli\n",
      "new_led7digit\n",
      "new_winequality-red\n",
      "thyroid-newthyroid\n"
     ]
    }
   ],
   "source": [
    "result_dict = defaultdict(list)\n",
    "\n",
    "safety_dict = defaultdict(list)\n",
    "\n",
    "if test_all_ds:\n",
    "    ds_names = dt_name_to_cols_to_encode.keys()\n",
    "else:\n",
    "    ds_names = [ds_name]\n",
    "    \n",
    "for dataset_name in ds_names:\n",
    "# for dataset_name in list(datasets.keys()):\n",
    "    print(dataset_name)\n",
    "    \n",
    "    safety_dict[\"dataset\"].append(dataset_name)\n",
    "    \n",
    "\n",
    "    X, y = datasets[dataset_name]['data'], datasets[dataset_name]['target']\n",
    "    X_encoded, y = datasets[f\"{dataset_name}_encoded\"]['data'], datasets[f\"{dataset_name}_encoded\"]['target']\n",
    "    \n",
    "    X_encoded, _ = standardize(X_encoded, X_encoded)\n",
    "        \n",
    "        \n",
    "    min_classes = dt_name_minority_classes[dataset_name]\n",
    "    \n",
    "    partial_safeness = defaultdict(list)\n",
    "    \n",
    "    for min_class in min_classes:\n",
    "        # safeness is calculated only for examples from a specific class\n",
    "        s_dict = calc_safety5(X_encoded, y, clazz=min_class)\n",
    "        for k,v in s_dict.items():\n",
    "            partial_safeness[k].append(v / np.sum(y==min_class))\n",
    "            \n",
    "    for k,v in partial_safeness.items():\n",
    "        safety_dict[f\"raw-{k}\"].append(np.mean(v))"
   ]
  },
  {
   "cell_type": "code",
   "execution_count": 9,
   "metadata": {},
   "outputs": [],
   "source": [
    "safety_df = pd.DataFrame.from_dict(safety_dict)"
   ]
  },
  {
   "cell_type": "code",
   "execution_count": 10,
   "metadata": {},
   "outputs": [
    {
     "data": {
      "text/html": [
       "<style  type=\"text/css\" >\n",
       "#T_ef011d26_c334_11eb_ac77_f3bcc14deaddrow0_col1,#T_ef011d26_c334_11eb_ac77_f3bcc14deaddrow1_col1,#T_ef011d26_c334_11eb_ac77_f3bcc14deaddrow1_col4,#T_ef011d26_c334_11eb_ac77_f3bcc14deaddrow2_col4,#T_ef011d26_c334_11eb_ac77_f3bcc14deaddrow3_col4,#T_ef011d26_c334_11eb_ac77_f3bcc14deaddrow4_col2,#T_ef011d26_c334_11eb_ac77_f3bcc14deaddrow5_col4,#T_ef011d26_c334_11eb_ac77_f3bcc14deaddrow6_col4,#T_ef011d26_c334_11eb_ac77_f3bcc14deaddrow7_col1,#T_ef011d26_c334_11eb_ac77_f3bcc14deaddrow8_col4,#T_ef011d26_c334_11eb_ac77_f3bcc14deaddrow9_col2,#T_ef011d26_c334_11eb_ac77_f3bcc14deaddrow10_col3,#T_ef011d26_c334_11eb_ac77_f3bcc14deaddrow11_col2,#T_ef011d26_c334_11eb_ac77_f3bcc14deaddrow12_col1,#T_ef011d26_c334_11eb_ac77_f3bcc14deaddrow13_col4,#T_ef011d26_c334_11eb_ac77_f3bcc14deaddrow14_col1,#T_ef011d26_c334_11eb_ac77_f3bcc14deaddrow15_col2,#T_ef011d26_c334_11eb_ac77_f3bcc14deaddrow16_col4{\n",
       "            background-color:  lightgreen;\n",
       "        }</style><table id=\"T_ef011d26_c334_11eb_ac77_f3bcc14deadd\" ><thead>    <tr>        <th class=\"blank level0\" ></th>        <th class=\"col_heading level0 col0\" >dataset</th>        <th class=\"col_heading level0 col1\" >raw-borderline</th>        <th class=\"col_heading level0 col2\" >raw-outlier</th>        <th class=\"col_heading level0 col3\" >raw-rare</th>        <th class=\"col_heading level0 col4\" >raw-safe</th>    </tr></thead><tbody>\n",
       "                <tr>\n",
       "                        <th id=\"T_ef011d26_c334_11eb_ac77_f3bcc14deaddlevel0_row0\" class=\"row_heading level0 row0\" >0</th>\n",
       "                        <td id=\"T_ef011d26_c334_11eb_ac77_f3bcc14deaddrow0_col0\" class=\"data row0 col0\" >cmc</td>\n",
       "                        <td id=\"T_ef011d26_c334_11eb_ac77_f3bcc14deaddrow0_col1\" class=\"data row0 col1\" >0.465465</td>\n",
       "                        <td id=\"T_ef011d26_c334_11eb_ac77_f3bcc14deaddrow0_col2\" class=\"data row0 col2\" >0.198198</td>\n",
       "                        <td id=\"T_ef011d26_c334_11eb_ac77_f3bcc14deaddrow0_col3\" class=\"data row0 col3\" >0.213213</td>\n",
       "                        <td id=\"T_ef011d26_c334_11eb_ac77_f3bcc14deaddrow0_col4\" class=\"data row0 col4\" >0.123123</td>\n",
       "            </tr>\n",
       "            <tr>\n",
       "                        <th id=\"T_ef011d26_c334_11eb_ac77_f3bcc14deaddlevel0_row1\" class=\"row_heading level0 row1\" >1</th>\n",
       "                        <td id=\"T_ef011d26_c334_11eb_ac77_f3bcc14deaddrow1_col0\" class=\"data row1 col0\" >dermatology</td>\n",
       "                        <td id=\"T_ef011d26_c334_11eb_ac77_f3bcc14deaddrow1_col1\" class=\"data row1 col1\" >0.450000</td>\n",
       "                        <td id=\"T_ef011d26_c334_11eb_ac77_f3bcc14deaddrow1_col2\" class=\"data row1 col2\" >0.000000</td>\n",
       "                        <td id=\"T_ef011d26_c334_11eb_ac77_f3bcc14deaddrow1_col3\" class=\"data row1 col3\" >0.100000</td>\n",
       "                        <td id=\"T_ef011d26_c334_11eb_ac77_f3bcc14deaddrow1_col4\" class=\"data row1 col4\" >0.450000</td>\n",
       "            </tr>\n",
       "            <tr>\n",
       "                        <th id=\"T_ef011d26_c334_11eb_ac77_f3bcc14deaddlevel0_row2\" class=\"row_heading level0 row2\" >2</th>\n",
       "                        <td id=\"T_ef011d26_c334_11eb_ac77_f3bcc14deaddrow2_col0\" class=\"data row2 col0\" >hayes-roth</td>\n",
       "                        <td id=\"T_ef011d26_c334_11eb_ac77_f3bcc14deaddrow2_col1\" class=\"data row2 col1\" >0.451613</td>\n",
       "                        <td id=\"T_ef011d26_c334_11eb_ac77_f3bcc14deaddrow2_col2\" class=\"data row2 col2\" >0.000000</td>\n",
       "                        <td id=\"T_ef011d26_c334_11eb_ac77_f3bcc14deaddrow2_col3\" class=\"data row2 col3\" >0.000000</td>\n",
       "                        <td id=\"T_ef011d26_c334_11eb_ac77_f3bcc14deaddrow2_col4\" class=\"data row2 col4\" >0.548387</td>\n",
       "            </tr>\n",
       "            <tr>\n",
       "                        <th id=\"T_ef011d26_c334_11eb_ac77_f3bcc14deaddlevel0_row3\" class=\"row_heading level0 row3\" >3</th>\n",
       "                        <td id=\"T_ef011d26_c334_11eb_ac77_f3bcc14deaddrow3_col0\" class=\"data row3 col0\" >new_vehicle</td>\n",
       "                        <td id=\"T_ef011d26_c334_11eb_ac77_f3bcc14deaddrow3_col1\" class=\"data row3 col1\" >0.149544</td>\n",
       "                        <td id=\"T_ef011d26_c334_11eb_ac77_f3bcc14deaddrow3_col2\" class=\"data row3 col2\" >0.005025</td>\n",
       "                        <td id=\"T_ef011d26_c334_11eb_ac77_f3bcc14deaddrow3_col3\" class=\"data row3 col3\" >0.024031</td>\n",
       "                        <td id=\"T_ef011d26_c334_11eb_ac77_f3bcc14deaddrow3_col4\" class=\"data row3 col4\" >0.821401</td>\n",
       "            </tr>\n",
       "            <tr>\n",
       "                        <th id=\"T_ef011d26_c334_11eb_ac77_f3bcc14deaddlevel0_row4\" class=\"row_heading level0 row4\" >4</th>\n",
       "                        <td id=\"T_ef011d26_c334_11eb_ac77_f3bcc14deaddrow4_col0\" class=\"data row4 col0\" >new_yeast</td>\n",
       "                        <td id=\"T_ef011d26_c334_11eb_ac77_f3bcc14deaddrow4_col1\" class=\"data row4 col1\" >0.216303</td>\n",
       "                        <td id=\"T_ef011d26_c334_11eb_ac77_f3bcc14deaddrow4_col2\" class=\"data row4 col2\" >0.374665</td>\n",
       "                        <td id=\"T_ef011d26_c334_11eb_ac77_f3bcc14deaddrow4_col3\" class=\"data row4 col3\" >0.164800</td>\n",
       "                        <td id=\"T_ef011d26_c334_11eb_ac77_f3bcc14deaddrow4_col4\" class=\"data row4 col4\" >0.244232</td>\n",
       "            </tr>\n",
       "            <tr>\n",
       "                        <th id=\"T_ef011d26_c334_11eb_ac77_f3bcc14deaddlevel0_row5\" class=\"row_heading level0 row5\" >5</th>\n",
       "                        <td id=\"T_ef011d26_c334_11eb_ac77_f3bcc14deaddrow5_col0\" class=\"data row5 col0\" >1czysty-cut</td>\n",
       "                        <td id=\"T_ef011d26_c334_11eb_ac77_f3bcc14deaddrow5_col1\" class=\"data row5 col1\" >0.089583</td>\n",
       "                        <td id=\"T_ef011d26_c334_11eb_ac77_f3bcc14deaddrow5_col2\" class=\"data row5 col2\" >0.000000</td>\n",
       "                        <td id=\"T_ef011d26_c334_11eb_ac77_f3bcc14deaddrow5_col3\" class=\"data row5 col3\" >0.000000</td>\n",
       "                        <td id=\"T_ef011d26_c334_11eb_ac77_f3bcc14deaddrow5_col4\" class=\"data row5 col4\" >0.910417</td>\n",
       "            </tr>\n",
       "            <tr>\n",
       "                        <th id=\"T_ef011d26_c334_11eb_ac77_f3bcc14deaddlevel0_row6\" class=\"row_heading level0 row6\" >6</th>\n",
       "                        <td id=\"T_ef011d26_c334_11eb_ac77_f3bcc14deaddrow6_col0\" class=\"data row6 col0\" >2delikatne-cut</td>\n",
       "                        <td id=\"T_ef011d26_c334_11eb_ac77_f3bcc14deaddrow6_col1\" class=\"data row6 col1\" >0.318750</td>\n",
       "                        <td id=\"T_ef011d26_c334_11eb_ac77_f3bcc14deaddrow6_col2\" class=\"data row6 col2\" >0.072917</td>\n",
       "                        <td id=\"T_ef011d26_c334_11eb_ac77_f3bcc14deaddrow6_col3\" class=\"data row6 col3\" >0.152083</td>\n",
       "                        <td id=\"T_ef011d26_c334_11eb_ac77_f3bcc14deaddrow6_col4\" class=\"data row6 col4\" >0.456250</td>\n",
       "            </tr>\n",
       "            <tr>\n",
       "                        <th id=\"T_ef011d26_c334_11eb_ac77_f3bcc14deaddlevel0_row7\" class=\"row_heading level0 row7\" >7</th>\n",
       "                        <td id=\"T_ef011d26_c334_11eb_ac77_f3bcc14deaddrow7_col0\" class=\"data row7 col0\" >3mocniej-cut</td>\n",
       "                        <td id=\"T_ef011d26_c334_11eb_ac77_f3bcc14deaddrow7_col1\" class=\"data row7 col1\" >0.325000</td>\n",
       "                        <td id=\"T_ef011d26_c334_11eb_ac77_f3bcc14deaddrow7_col2\" class=\"data row7 col2\" >0.175000</td>\n",
       "                        <td id=\"T_ef011d26_c334_11eb_ac77_f3bcc14deaddrow7_col3\" class=\"data row7 col3\" >0.306250</td>\n",
       "                        <td id=\"T_ef011d26_c334_11eb_ac77_f3bcc14deaddrow7_col4\" class=\"data row7 col4\" >0.193750</td>\n",
       "            </tr>\n",
       "            <tr>\n",
       "                        <th id=\"T_ef011d26_c334_11eb_ac77_f3bcc14deaddlevel0_row8\" class=\"row_heading level0 row8\" >8</th>\n",
       "                        <td id=\"T_ef011d26_c334_11eb_ac77_f3bcc14deaddrow8_col0\" class=\"data row8 col0\" >4delikatne-bezover-cut</td>\n",
       "                        <td id=\"T_ef011d26_c334_11eb_ac77_f3bcc14deaddrow8_col1\" class=\"data row8 col1\" >0.233333</td>\n",
       "                        <td id=\"T_ef011d26_c334_11eb_ac77_f3bcc14deaddrow8_col2\" class=\"data row8 col2\" >0.056250</td>\n",
       "                        <td id=\"T_ef011d26_c334_11eb_ac77_f3bcc14deaddrow8_col3\" class=\"data row8 col3\" >0.087500</td>\n",
       "                        <td id=\"T_ef011d26_c334_11eb_ac77_f3bcc14deaddrow8_col4\" class=\"data row8 col4\" >0.622917</td>\n",
       "            </tr>\n",
       "            <tr>\n",
       "                        <th id=\"T_ef011d26_c334_11eb_ac77_f3bcc14deaddlevel0_row9\" class=\"row_heading level0 row9\" >9</th>\n",
       "                        <td id=\"T_ef011d26_c334_11eb_ac77_f3bcc14deaddrow9_col0\" class=\"data row9 col0\" >balance-scale</td>\n",
       "                        <td id=\"T_ef011d26_c334_11eb_ac77_f3bcc14deaddrow9_col1\" class=\"data row9 col1\" >0.000000</td>\n",
       "                        <td id=\"T_ef011d26_c334_11eb_ac77_f3bcc14deaddrow9_col2\" class=\"data row9 col2\" >0.857143</td>\n",
       "                        <td id=\"T_ef011d26_c334_11eb_ac77_f3bcc14deaddrow9_col3\" class=\"data row9 col3\" >0.142857</td>\n",
       "                        <td id=\"T_ef011d26_c334_11eb_ac77_f3bcc14deaddrow9_col4\" class=\"data row9 col4\" >0.000000</td>\n",
       "            </tr>\n",
       "            <tr>\n",
       "                        <th id=\"T_ef011d26_c334_11eb_ac77_f3bcc14deaddlevel0_row10\" class=\"row_heading level0 row10\" >10</th>\n",
       "                        <td id=\"T_ef011d26_c334_11eb_ac77_f3bcc14deaddrow10_col0\" class=\"data row10 col0\" >cleveland</td>\n",
       "                        <td id=\"T_ef011d26_c334_11eb_ac77_f3bcc14deaddrow10_col1\" class=\"data row10 col1\" >0.224784</td>\n",
       "                        <td id=\"T_ef011d26_c334_11eb_ac77_f3bcc14deaddrow10_col2\" class=\"data row10 col2\" >0.360002</td>\n",
       "                        <td id=\"T_ef011d26_c334_11eb_ac77_f3bcc14deaddrow10_col3\" class=\"data row10 col3\" >0.410668</td>\n",
       "                        <td id=\"T_ef011d26_c334_11eb_ac77_f3bcc14deaddrow10_col4\" class=\"data row10 col4\" >0.004545</td>\n",
       "            </tr>\n",
       "            <tr>\n",
       "                        <th id=\"T_ef011d26_c334_11eb_ac77_f3bcc14deaddlevel0_row11\" class=\"row_heading level0 row11\" >11</th>\n",
       "                        <td id=\"T_ef011d26_c334_11eb_ac77_f3bcc14deaddrow11_col0\" class=\"data row11 col0\" >cleveland_v2</td>\n",
       "                        <td id=\"T_ef011d26_c334_11eb_ac77_f3bcc14deaddrow11_col1\" class=\"data row11 col1\" >0.160317</td>\n",
       "                        <td id=\"T_ef011d26_c334_11eb_ac77_f3bcc14deaddrow11_col2\" class=\"data row11 col2\" >0.425458</td>\n",
       "                        <td id=\"T_ef011d26_c334_11eb_ac77_f3bcc14deaddrow11_col3\" class=\"data row11 col3\" >0.414225</td>\n",
       "                        <td id=\"T_ef011d26_c334_11eb_ac77_f3bcc14deaddrow11_col4\" class=\"data row11 col4\" >0.000000</td>\n",
       "            </tr>\n",
       "            <tr>\n",
       "                        <th id=\"T_ef011d26_c334_11eb_ac77_f3bcc14deaddlevel0_row12\" class=\"row_heading level0 row12\" >12</th>\n",
       "                        <td id=\"T_ef011d26_c334_11eb_ac77_f3bcc14deaddrow12_col0\" class=\"data row12 col0\" >glass</td>\n",
       "                        <td id=\"T_ef011d26_c334_11eb_ac77_f3bcc14deaddrow12_col1\" class=\"data row12 col1\" >0.380426</td>\n",
       "                        <td id=\"T_ef011d26_c334_11eb_ac77_f3bcc14deaddrow12_col2\" class=\"data row12 col2\" >0.186358</td>\n",
       "                        <td id=\"T_ef011d26_c334_11eb_ac77_f3bcc14deaddrow12_col3\" class=\"data row12 col3\" >0.245182</td>\n",
       "                        <td id=\"T_ef011d26_c334_11eb_ac77_f3bcc14deaddrow12_col4\" class=\"data row12 col4\" >0.188034</td>\n",
       "            </tr>\n",
       "            <tr>\n",
       "                        <th id=\"T_ef011d26_c334_11eb_ac77_f3bcc14deaddlevel0_row13\" class=\"row_heading level0 row13\" >13</th>\n",
       "                        <td id=\"T_ef011d26_c334_11eb_ac77_f3bcc14deaddrow13_col0\" class=\"data row13 col0\" >new_ecoli</td>\n",
       "                        <td id=\"T_ef011d26_c334_11eb_ac77_f3bcc14deaddrow13_col1\" class=\"data row13 col1\" >0.275787</td>\n",
       "                        <td id=\"T_ef011d26_c334_11eb_ac77_f3bcc14deaddrow13_col2\" class=\"data row13 col2\" >0.093028</td>\n",
       "                        <td id=\"T_ef011d26_c334_11eb_ac77_f3bcc14deaddrow13_col3\" class=\"data row13 col3\" >0.031351</td>\n",
       "                        <td id=\"T_ef011d26_c334_11eb_ac77_f3bcc14deaddrow13_col4\" class=\"data row13 col4\" >0.599834</td>\n",
       "            </tr>\n",
       "            <tr>\n",
       "                        <th id=\"T_ef011d26_c334_11eb_ac77_f3bcc14deaddlevel0_row14\" class=\"row_heading level0 row14\" >14</th>\n",
       "                        <td id=\"T_ef011d26_c334_11eb_ac77_f3bcc14deaddrow14_col0\" class=\"data row14 col0\" >new_led7digit</td>\n",
       "                        <td id=\"T_ef011d26_c334_11eb_ac77_f3bcc14deaddrow14_col1\" class=\"data row14 col1\" >0.453885</td>\n",
       "                        <td id=\"T_ef011d26_c334_11eb_ac77_f3bcc14deaddrow14_col2\" class=\"data row14 col2\" >0.061224</td>\n",
       "                        <td id=\"T_ef011d26_c334_11eb_ac77_f3bcc14deaddrow14_col3\" class=\"data row14 col3\" >0.100275</td>\n",
       "                        <td id=\"T_ef011d26_c334_11eb_ac77_f3bcc14deaddrow14_col4\" class=\"data row14 col4\" >0.384615</td>\n",
       "            </tr>\n",
       "            <tr>\n",
       "                        <th id=\"T_ef011d26_c334_11eb_ac77_f3bcc14deaddlevel0_row15\" class=\"row_heading level0 row15\" >15</th>\n",
       "                        <td id=\"T_ef011d26_c334_11eb_ac77_f3bcc14deaddrow15_col0\" class=\"data row15 col0\" >new_winequality-red</td>\n",
       "                        <td id=\"T_ef011d26_c334_11eb_ac77_f3bcc14deaddrow15_col1\" class=\"data row15 col1\" >0.220237</td>\n",
       "                        <td id=\"T_ef011d26_c334_11eb_ac77_f3bcc14deaddrow15_col2\" class=\"data row15 col2\" >0.373969</td>\n",
       "                        <td id=\"T_ef011d26_c334_11eb_ac77_f3bcc14deaddrow15_col3\" class=\"data row15 col3\" >0.294094</td>\n",
       "                        <td id=\"T_ef011d26_c334_11eb_ac77_f3bcc14deaddrow15_col4\" class=\"data row15 col4\" >0.111700</td>\n",
       "            </tr>\n",
       "            <tr>\n",
       "                        <th id=\"T_ef011d26_c334_11eb_ac77_f3bcc14deaddlevel0_row16\" class=\"row_heading level0 row16\" >16</th>\n",
       "                        <td id=\"T_ef011d26_c334_11eb_ac77_f3bcc14deaddrow16_col0\" class=\"data row16 col0\" >thyroid-newthyroid</td>\n",
       "                        <td id=\"T_ef011d26_c334_11eb_ac77_f3bcc14deaddrow16_col1\" class=\"data row16 col1\" >0.190476</td>\n",
       "                        <td id=\"T_ef011d26_c334_11eb_ac77_f3bcc14deaddrow16_col2\" class=\"data row16 col2\" >0.033333</td>\n",
       "                        <td id=\"T_ef011d26_c334_11eb_ac77_f3bcc14deaddrow16_col3\" class=\"data row16 col3\" >0.050000</td>\n",
       "                        <td id=\"T_ef011d26_c334_11eb_ac77_f3bcc14deaddrow16_col4\" class=\"data row16 col4\" >0.726190</td>\n",
       "            </tr>\n",
       "    </tbody></table>"
      ],
      "text/plain": [
       "<pandas.io.formats.style.Styler at 0x7f7b19c7aa50>"
      ]
     },
     "execution_count": 10,
     "metadata": {},
     "output_type": "execute_result"
    }
   ],
   "source": [
    "safety_df[sorted(safety_df.filter(regex=(\"dataset|raw\")).columns)].style.highlight_max(color = 'lightgreen', axis = 1)"
   ]
  }
 ],
 "metadata": {
  "kernelspec": {
   "display_name": "Python 3",
   "language": "python",
   "name": "python3"
  },
  "language_info": {
   "codemirror_mode": {
    "name": "ipython",
    "version": 3
   },
   "file_extension": ".py",
   "mimetype": "text/x-python",
   "name": "python",
   "nbconvert_exporter": "python",
   "pygments_lexer": "ipython3",
   "version": "3.7.9"
  }
 },
 "nbformat": 4,
 "nbformat_minor": 4
}
