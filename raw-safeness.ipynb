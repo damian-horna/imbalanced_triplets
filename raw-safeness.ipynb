{
 "cells": [
  {
   "cell_type": "code",
   "execution_count": 1,
   "metadata": {},
   "outputs": [
    {
     "name": "stderr",
     "output_type": "stream",
     "text": [
      "/home/dhorna/anaconda3/envs/mgr/lib/python3.7/site-packages/sklearn/utils/deprecation.py:143: FutureWarning: The sklearn.datasets.base module is  deprecated in version 0.22 and will be removed in version 0.24. The corresponding classes / functions should instead be imported from sklearn.datasets. Anything that cannot be imported from sklearn.datasets is now part of the private API.\n",
      "  warnings.warn(message, FutureWarning)\n"
     ]
    }
   ],
   "source": [
    "from multi_imbalance.datasets import load_datasets\n",
    "import experiment_v2 as ex\n",
    "from sklearn.model_selection import StratifiedKFold\n",
    "from collections import Counter, defaultdict\n",
    "from multi_imbalance.utils.metrics import gmean_score\n",
    "from sklearn.metrics import f1_score\n",
    "from sklearn.ensemble import RandomForestClassifier\n",
    "from sklearn.neighbors import KNeighborsClassifier\n",
    "import numpy as np\n",
    "import pandas as pd\n",
    "from sklearn.tree import DecisionTreeClassifier\n",
    "from utils import plot_embeddings\n",
    "from sklearn.decomposition import PCA\n",
    "import matplotlib.pyplot as plt\n",
    "from sklearn.discriminant_analysis import LinearDiscriminantAnalysis, QuadraticDiscriminantAnalysis"
   ]
  },
  {
   "cell_type": "code",
   "execution_count": 2,
   "metadata": {},
   "outputs": [],
   "source": [
    "datasets = load_datasets()"
   ]
  },
  {
   "cell_type": "code",
   "execution_count": 3,
   "metadata": {},
   "outputs": [],
   "source": [
    "ds_name = 'dermatology'\n",
    "test_on_all_folds = True\n",
    "test_all_ds = True"
   ]
  },
  {
   "cell_type": "code",
   "execution_count": 4,
   "metadata": {},
   "outputs": [],
   "source": [
    "datasets = ex.one_hot_encode_all(datasets)"
   ]
  },
  {
   "cell_type": "code",
   "execution_count": 5,
   "metadata": {},
   "outputs": [],
   "source": [
    "from experiment import dt_name_to_cols_to_encode\n"
   ]
  },
  {
   "cell_type": "code",
   "execution_count": 6,
   "metadata": {},
   "outputs": [],
   "source": [
    "from sklearn.neighbors import KNeighborsClassifier\n",
    "\n",
    "def calc_safety5(X,y):\n",
    "    result = {\n",
    "        \"safe\":0,\n",
    "        \"borderline\":0,\n",
    "        \"rare\":0,\n",
    "        \"outlier\":0\n",
    "    }\n",
    "    neigh = KNeighborsClassifier(n_neighbors=5)\n",
    "    neigh.fit(X, y)\n",
    "    neighbors = neigh.kneighbors(X, 5+1, False)\n",
    "    for i, (x, nbors) in enumerate(list(zip(X, neighbors))):\n",
    "        same_class_nbrs = (y[nbors[1:]] == y[i]).sum()\n",
    "        if same_class_nbrs >= 4:\n",
    "            result['safe'] += 1\n",
    "        elif same_class_nbrs >= 2:\n",
    "            result['borderline'] += 1\n",
    "        elif same_class_nbrs == 1:\n",
    "            result['rare'] += 1\n",
    "        else:\n",
    "            result['outlier'] += 1\n",
    "    return result"
   ]
  },
  {
   "cell_type": "code",
   "execution_count": 7,
   "metadata": {},
   "outputs": [],
   "source": [
    "def standardize(X_train, X_test):\n",
    "    means = X_train.mean(axis=0)\n",
    "    stds = X_train.std(axis=0)\n",
    "    return (X_train - means) / (stds+1e-6), (X_test - means) / (stds + 1e-6)"
   ]
  },
  {
   "cell_type": "code",
   "execution_count": 8,
   "metadata": {
    "scrolled": true
   },
   "outputs": [
    {
     "name": "stdout",
     "output_type": "stream",
     "text": [
      "cmc\n",
      "dermatology\n",
      "hayes-roth\n",
      "new_vehicle\n",
      "new_yeast\n",
      "1czysty-cut\n",
      "2delikatne-cut\n",
      "3mocniej-cut\n",
      "4delikatne-bezover-cut\n",
      "balance-scale\n",
      "cleveland\n",
      "cleveland_v2\n",
      "glass\n",
      "new_ecoli\n",
      "new_led7digit\n",
      "new_winequality-red\n",
      "thyroid-newthyroid\n"
     ]
    }
   ],
   "source": [
    "result_dict = defaultdict(list)\n",
    "\n",
    "safety_dict = defaultdict(list)\n",
    "\n",
    "if test_all_ds:\n",
    "    ds_names = dt_name_to_cols_to_encode.keys()\n",
    "else:\n",
    "    ds_names = [ds_name]\n",
    "    \n",
    "for dataset_name in ds_names:\n",
    "# for dataset_name in list(datasets.keys()):\n",
    "    print(dataset_name)\n",
    "    \n",
    "    safety_dict[\"dataset\"].append(dataset_name)\n",
    "    \n",
    "\n",
    "    X, y = datasets[dataset_name]['data'], datasets[dataset_name]['target']\n",
    "    X_encoded, y = datasets[f\"{dataset_name}_encoded\"]['data'], datasets[f\"{dataset_name}_encoded\"]['target']\n",
    "    \n",
    "    X_encoded, _ = standardize(X_encoded, X_encoded)\n",
    "        \n",
    "    s_dict = calc_safety5(X_encoded, y)\n",
    "    for k,v in s_dict.items():\n",
    "        safety_dict[f\"raw-{k}\"].append(v / X_encoded.shape[0])"
   ]
  },
  {
   "cell_type": "code",
   "execution_count": 9,
   "metadata": {},
   "outputs": [],
   "source": [
    "safety_df = pd.DataFrame.from_dict(safety_dict)"
   ]
  },
  {
   "cell_type": "code",
   "execution_count": 10,
   "metadata": {},
   "outputs": [
    {
     "data": {
      "text/html": [
       "<style  type=\"text/css\" >\n",
       "#T_6f6a9412_c333_11eb_8ffe_6d1e97d52442row0_col1,#T_6f6a9412_c333_11eb_8ffe_6d1e97d52442row1_col4,#T_6f6a9412_c333_11eb_8ffe_6d1e97d52442row2_col1,#T_6f6a9412_c333_11eb_8ffe_6d1e97d52442row3_col4,#T_6f6a9412_c333_11eb_8ffe_6d1e97d52442row4_col1,#T_6f6a9412_c333_11eb_8ffe_6d1e97d52442row5_col4,#T_6f6a9412_c333_11eb_8ffe_6d1e97d52442row6_col4,#T_6f6a9412_c333_11eb_8ffe_6d1e97d52442row7_col4,#T_6f6a9412_c333_11eb_8ffe_6d1e97d52442row8_col4,#T_6f6a9412_c333_11eb_8ffe_6d1e97d52442row9_col1,#T_6f6a9412_c333_11eb_8ffe_6d1e97d52442row10_col4,#T_6f6a9412_c333_11eb_8ffe_6d1e97d52442row11_col4,#T_6f6a9412_c333_11eb_8ffe_6d1e97d52442row12_col4,#T_6f6a9412_c333_11eb_8ffe_6d1e97d52442row13_col4,#T_6f6a9412_c333_11eb_8ffe_6d1e97d52442row14_col4,#T_6f6a9412_c333_11eb_8ffe_6d1e97d52442row15_col1,#T_6f6a9412_c333_11eb_8ffe_6d1e97d52442row16_col4{\n",
       "            background-color:  lightgreen;\n",
       "        }</style><table id=\"T_6f6a9412_c333_11eb_8ffe_6d1e97d52442\" ><thead>    <tr>        <th class=\"blank level0\" ></th>        <th class=\"col_heading level0 col0\" >dataset</th>        <th class=\"col_heading level0 col1\" >raw-borderline</th>        <th class=\"col_heading level0 col2\" >raw-outlier</th>        <th class=\"col_heading level0 col3\" >raw-rare</th>        <th class=\"col_heading level0 col4\" >raw-safe</th>    </tr></thead><tbody>\n",
       "                <tr>\n",
       "                        <th id=\"T_6f6a9412_c333_11eb_8ffe_6d1e97d52442level0_row0\" class=\"row_heading level0 row0\" >0</th>\n",
       "                        <td id=\"T_6f6a9412_c333_11eb_8ffe_6d1e97d52442row0_col0\" class=\"data row0 col0\" >cmc</td>\n",
       "                        <td id=\"T_6f6a9412_c333_11eb_8ffe_6d1e97d52442row0_col1\" class=\"data row0 col1\" >0.515954</td>\n",
       "                        <td id=\"T_6f6a9412_c333_11eb_8ffe_6d1e97d52442row0_col2\" class=\"data row0 col2\" >0.099796</td>\n",
       "                        <td id=\"T_6f6a9412_c333_11eb_8ffe_6d1e97d52442row0_col3\" class=\"data row0 col3\" >0.218601</td>\n",
       "                        <td id=\"T_6f6a9412_c333_11eb_8ffe_6d1e97d52442row0_col4\" class=\"data row0 col4\" >0.165648</td>\n",
       "            </tr>\n",
       "            <tr>\n",
       "                        <th id=\"T_6f6a9412_c333_11eb_8ffe_6d1e97d52442level0_row1\" class=\"row_heading level0 row1\" >1</th>\n",
       "                        <td id=\"T_6f6a9412_c333_11eb_8ffe_6d1e97d52442row1_col0\" class=\"data row1 col0\" >dermatology</td>\n",
       "                        <td id=\"T_6f6a9412_c333_11eb_8ffe_6d1e97d52442row1_col1\" class=\"data row1 col1\" >0.188525</td>\n",
       "                        <td id=\"T_6f6a9412_c333_11eb_8ffe_6d1e97d52442row1_col2\" class=\"data row1 col2\" >0.010929</td>\n",
       "                        <td id=\"T_6f6a9412_c333_11eb_8ffe_6d1e97d52442row1_col3\" class=\"data row1 col3\" >0.032787</td>\n",
       "                        <td id=\"T_6f6a9412_c333_11eb_8ffe_6d1e97d52442row1_col4\" class=\"data row1 col4\" >0.767760</td>\n",
       "            </tr>\n",
       "            <tr>\n",
       "                        <th id=\"T_6f6a9412_c333_11eb_8ffe_6d1e97d52442level0_row2\" class=\"row_heading level0 row2\" >2</th>\n",
       "                        <td id=\"T_6f6a9412_c333_11eb_8ffe_6d1e97d52442row2_col0\" class=\"data row2 col0\" >hayes-roth</td>\n",
       "                        <td id=\"T_6f6a9412_c333_11eb_8ffe_6d1e97d52442row2_col1\" class=\"data row2 col1\" >0.712500</td>\n",
       "                        <td id=\"T_6f6a9412_c333_11eb_8ffe_6d1e97d52442row2_col2\" class=\"data row2 col2\" >0.000000</td>\n",
       "                        <td id=\"T_6f6a9412_c333_11eb_8ffe_6d1e97d52442row2_col3\" class=\"data row2 col3\" >0.031250</td>\n",
       "                        <td id=\"T_6f6a9412_c333_11eb_8ffe_6d1e97d52442row2_col4\" class=\"data row2 col4\" >0.256250</td>\n",
       "            </tr>\n",
       "            <tr>\n",
       "                        <th id=\"T_6f6a9412_c333_11eb_8ffe_6d1e97d52442level0_row3\" class=\"row_heading level0 row3\" >3</th>\n",
       "                        <td id=\"T_6f6a9412_c333_11eb_8ffe_6d1e97d52442row3_col0\" class=\"data row3 col0\" >new_vehicle</td>\n",
       "                        <td id=\"T_6f6a9412_c333_11eb_8ffe_6d1e97d52442row3_col1\" class=\"data row3 col1\" >0.128842</td>\n",
       "                        <td id=\"T_6f6a9412_c333_11eb_8ffe_6d1e97d52442row3_col2\" class=\"data row3 col2\" >0.003546</td>\n",
       "                        <td id=\"T_6f6a9412_c333_11eb_8ffe_6d1e97d52442row3_col3\" class=\"data row3 col3\" >0.026005</td>\n",
       "                        <td id=\"T_6f6a9412_c333_11eb_8ffe_6d1e97d52442row3_col4\" class=\"data row3 col4\" >0.841608</td>\n",
       "            </tr>\n",
       "            <tr>\n",
       "                        <th id=\"T_6f6a9412_c333_11eb_8ffe_6d1e97d52442level0_row4\" class=\"row_heading level0 row4\" >4</th>\n",
       "                        <td id=\"T_6f6a9412_c333_11eb_8ffe_6d1e97d52442row4_col0\" class=\"data row4 col0\" >new_yeast</td>\n",
       "                        <td id=\"T_6f6a9412_c333_11eb_8ffe_6d1e97d52442row4_col1\" class=\"data row4 col1\" >0.406334</td>\n",
       "                        <td id=\"T_6f6a9412_c333_11eb_8ffe_6d1e97d52442row4_col2\" class=\"data row4 col2\" >0.139488</td>\n",
       "                        <td id=\"T_6f6a9412_c333_11eb_8ffe_6d1e97d52442row4_col3\" class=\"data row4 col3\" >0.177898</td>\n",
       "                        <td id=\"T_6f6a9412_c333_11eb_8ffe_6d1e97d52442row4_col4\" class=\"data row4 col4\" >0.276280</td>\n",
       "            </tr>\n",
       "            <tr>\n",
       "                        <th id=\"T_6f6a9412_c333_11eb_8ffe_6d1e97d52442level0_row5\" class=\"row_heading level0 row5\" >5</th>\n",
       "                        <td id=\"T_6f6a9412_c333_11eb_8ffe_6d1e97d52442row5_col0\" class=\"data row5 col0\" >1czysty-cut</td>\n",
       "                        <td id=\"T_6f6a9412_c333_11eb_8ffe_6d1e97d52442row5_col1\" class=\"data row5 col1\" >0.050833</td>\n",
       "                        <td id=\"T_6f6a9412_c333_11eb_8ffe_6d1e97d52442row5_col2\" class=\"data row5 col2\" >0.000000</td>\n",
       "                        <td id=\"T_6f6a9412_c333_11eb_8ffe_6d1e97d52442row5_col3\" class=\"data row5 col3\" >0.007500</td>\n",
       "                        <td id=\"T_6f6a9412_c333_11eb_8ffe_6d1e97d52442row5_col4\" class=\"data row5 col4\" >0.941667</td>\n",
       "            </tr>\n",
       "            <tr>\n",
       "                        <th id=\"T_6f6a9412_c333_11eb_8ffe_6d1e97d52442level0_row6\" class=\"row_heading level0 row6\" >6</th>\n",
       "                        <td id=\"T_6f6a9412_c333_11eb_8ffe_6d1e97d52442row6_col0\" class=\"data row6 col0\" >2delikatne-cut</td>\n",
       "                        <td id=\"T_6f6a9412_c333_11eb_8ffe_6d1e97d52442row6_col1\" class=\"data row6 col1\" >0.180000</td>\n",
       "                        <td id=\"T_6f6a9412_c333_11eb_8ffe_6d1e97d52442row6_col2\" class=\"data row6 col2\" >0.019167</td>\n",
       "                        <td id=\"T_6f6a9412_c333_11eb_8ffe_6d1e97d52442row6_col3\" class=\"data row6 col3\" >0.049167</td>\n",
       "                        <td id=\"T_6f6a9412_c333_11eb_8ffe_6d1e97d52442row6_col4\" class=\"data row6 col4\" >0.751667</td>\n",
       "            </tr>\n",
       "            <tr>\n",
       "                        <th id=\"T_6f6a9412_c333_11eb_8ffe_6d1e97d52442level0_row7\" class=\"row_heading level0 row7\" >7</th>\n",
       "                        <td id=\"T_6f6a9412_c333_11eb_8ffe_6d1e97d52442row7_col0\" class=\"data row7 col0\" >3mocniej-cut</td>\n",
       "                        <td id=\"T_6f6a9412_c333_11eb_8ffe_6d1e97d52442row7_col1\" class=\"data row7 col1\" >0.290833</td>\n",
       "                        <td id=\"T_6f6a9412_c333_11eb_8ffe_6d1e97d52442row7_col2\" class=\"data row7 col2\" >0.045833</td>\n",
       "                        <td id=\"T_6f6a9412_c333_11eb_8ffe_6d1e97d52442row7_col3\" class=\"data row7 col3\" >0.095000</td>\n",
       "                        <td id=\"T_6f6a9412_c333_11eb_8ffe_6d1e97d52442row7_col4\" class=\"data row7 col4\" >0.568333</td>\n",
       "            </tr>\n",
       "            <tr>\n",
       "                        <th id=\"T_6f6a9412_c333_11eb_8ffe_6d1e97d52442level0_row8\" class=\"row_heading level0 row8\" >8</th>\n",
       "                        <td id=\"T_6f6a9412_c333_11eb_8ffe_6d1e97d52442row8_col0\" class=\"data row8 col0\" >4delikatne-bezover-cut</td>\n",
       "                        <td id=\"T_6f6a9412_c333_11eb_8ffe_6d1e97d52442row8_col1\" class=\"data row8 col1\" >0.161667</td>\n",
       "                        <td id=\"T_6f6a9412_c333_11eb_8ffe_6d1e97d52442row8_col2\" class=\"data row8 col2\" >0.016667</td>\n",
       "                        <td id=\"T_6f6a9412_c333_11eb_8ffe_6d1e97d52442row8_col3\" class=\"data row8 col3\" >0.044167</td>\n",
       "                        <td id=\"T_6f6a9412_c333_11eb_8ffe_6d1e97d52442row8_col4\" class=\"data row8 col4\" >0.777500</td>\n",
       "            </tr>\n",
       "            <tr>\n",
       "                        <th id=\"T_6f6a9412_c333_11eb_8ffe_6d1e97d52442level0_row9\" class=\"row_heading level0 row9\" >9</th>\n",
       "                        <td id=\"T_6f6a9412_c333_11eb_8ffe_6d1e97d52442row9_col0\" class=\"data row9 col0\" >balance-scale</td>\n",
       "                        <td id=\"T_6f6a9412_c333_11eb_8ffe_6d1e97d52442row9_col1\" class=\"data row9 col1\" >0.536000</td>\n",
       "                        <td id=\"T_6f6a9412_c333_11eb_8ffe_6d1e97d52442row9_col2\" class=\"data row9 col2\" >0.083200</td>\n",
       "                        <td id=\"T_6f6a9412_c333_11eb_8ffe_6d1e97d52442row9_col3\" class=\"data row9 col3\" >0.129600</td>\n",
       "                        <td id=\"T_6f6a9412_c333_11eb_8ffe_6d1e97d52442row9_col4\" class=\"data row9 col4\" >0.251200</td>\n",
       "            </tr>\n",
       "            <tr>\n",
       "                        <th id=\"T_6f6a9412_c333_11eb_8ffe_6d1e97d52442level0_row10\" class=\"row_heading level0 row10\" >10</th>\n",
       "                        <td id=\"T_6f6a9412_c333_11eb_8ffe_6d1e97d52442row10_col0\" class=\"data row10 col0\" >cleveland</td>\n",
       "                        <td id=\"T_6f6a9412_c333_11eb_8ffe_6d1e97d52442row10_col1\" class=\"data row10 col1\" >0.237624</td>\n",
       "                        <td id=\"T_6f6a9412_c333_11eb_8ffe_6d1e97d52442row10_col2\" class=\"data row10 col2\" >0.128713</td>\n",
       "                        <td id=\"T_6f6a9412_c333_11eb_8ffe_6d1e97d52442row10_col3\" class=\"data row10 col3\" >0.234323</td>\n",
       "                        <td id=\"T_6f6a9412_c333_11eb_8ffe_6d1e97d52442row10_col4\" class=\"data row10 col4\" >0.399340</td>\n",
       "            </tr>\n",
       "            <tr>\n",
       "                        <th id=\"T_6f6a9412_c333_11eb_8ffe_6d1e97d52442level0_row11\" class=\"row_heading level0 row11\" >11</th>\n",
       "                        <td id=\"T_6f6a9412_c333_11eb_8ffe_6d1e97d52442row11_col0\" class=\"data row11 col0\" >cleveland_v2</td>\n",
       "                        <td id=\"T_6f6a9412_c333_11eb_8ffe_6d1e97d52442row11_col1\" class=\"data row11 col1\" >0.148515</td>\n",
       "                        <td id=\"T_6f6a9412_c333_11eb_8ffe_6d1e97d52442row11_col2\" class=\"data row11 col2\" >0.092409</td>\n",
       "                        <td id=\"T_6f6a9412_c333_11eb_8ffe_6d1e97d52442row11_col3\" class=\"data row11 col3\" >0.155116</td>\n",
       "                        <td id=\"T_6f6a9412_c333_11eb_8ffe_6d1e97d52442row11_col4\" class=\"data row11 col4\" >0.603960</td>\n",
       "            </tr>\n",
       "            <tr>\n",
       "                        <th id=\"T_6f6a9412_c333_11eb_8ffe_6d1e97d52442level0_row12\" class=\"row_heading level0 row12\" >12</th>\n",
       "                        <td id=\"T_6f6a9412_c333_11eb_8ffe_6d1e97d52442row12_col0\" class=\"data row12 col0\" >glass</td>\n",
       "                        <td id=\"T_6f6a9412_c333_11eb_8ffe_6d1e97d52442row12_col1\" class=\"data row12 col1\" >0.313084</td>\n",
       "                        <td id=\"T_6f6a9412_c333_11eb_8ffe_6d1e97d52442row12_col2\" class=\"data row12 col2\" >0.079439</td>\n",
       "                        <td id=\"T_6f6a9412_c333_11eb_8ffe_6d1e97d52442row12_col3\" class=\"data row12 col3\" >0.126168</td>\n",
       "                        <td id=\"T_6f6a9412_c333_11eb_8ffe_6d1e97d52442row12_col4\" class=\"data row12 col4\" >0.481308</td>\n",
       "            </tr>\n",
       "            <tr>\n",
       "                        <th id=\"T_6f6a9412_c333_11eb_8ffe_6d1e97d52442level0_row13\" class=\"row_heading level0 row13\" >13</th>\n",
       "                        <td id=\"T_6f6a9412_c333_11eb_8ffe_6d1e97d52442row13_col0\" class=\"data row13 col0\" >new_ecoli</td>\n",
       "                        <td id=\"T_6f6a9412_c333_11eb_8ffe_6d1e97d52442row13_col1\" class=\"data row13 col1\" >0.175595</td>\n",
       "                        <td id=\"T_6f6a9412_c333_11eb_8ffe_6d1e97d52442row13_col2\" class=\"data row13 col2\" >0.056548</td>\n",
       "                        <td id=\"T_6f6a9412_c333_11eb_8ffe_6d1e97d52442row13_col3\" class=\"data row13 col3\" >0.029762</td>\n",
       "                        <td id=\"T_6f6a9412_c333_11eb_8ffe_6d1e97d52442row13_col4\" class=\"data row13 col4\" >0.738095</td>\n",
       "            </tr>\n",
       "            <tr>\n",
       "                        <th id=\"T_6f6a9412_c333_11eb_8ffe_6d1e97d52442level0_row14\" class=\"row_heading level0 row14\" >14</th>\n",
       "                        <td id=\"T_6f6a9412_c333_11eb_8ffe_6d1e97d52442row14_col0\" class=\"data row14 col0\" >new_led7digit</td>\n",
       "                        <td id=\"T_6f6a9412_c333_11eb_8ffe_6d1e97d52442row14_col1\" class=\"data row14 col1\" >0.290000</td>\n",
       "                        <td id=\"T_6f6a9412_c333_11eb_8ffe_6d1e97d52442row14_col2\" class=\"data row14 col2\" >0.050000</td>\n",
       "                        <td id=\"T_6f6a9412_c333_11eb_8ffe_6d1e97d52442row14_col3\" class=\"data row14 col3\" >0.078000</td>\n",
       "                        <td id=\"T_6f6a9412_c333_11eb_8ffe_6d1e97d52442row14_col4\" class=\"data row14 col4\" >0.582000</td>\n",
       "            </tr>\n",
       "            <tr>\n",
       "                        <th id=\"T_6f6a9412_c333_11eb_8ffe_6d1e97d52442level0_row15\" class=\"row_heading level0 row15\" >15</th>\n",
       "                        <td id=\"T_6f6a9412_c333_11eb_8ffe_6d1e97d52442row15_col0\" class=\"data row15 col0\" >new_winequality-red</td>\n",
       "                        <td id=\"T_6f6a9412_c333_11eb_8ffe_6d1e97d52442row15_col1\" class=\"data row15 col1\" >0.415885</td>\n",
       "                        <td id=\"T_6f6a9412_c333_11eb_8ffe_6d1e97d52442row15_col2\" class=\"data row15 col2\" >0.096936</td>\n",
       "                        <td id=\"T_6f6a9412_c333_11eb_8ffe_6d1e97d52442row15_col3\" class=\"data row15 col3\" >0.169481</td>\n",
       "                        <td id=\"T_6f6a9412_c333_11eb_8ffe_6d1e97d52442row15_col4\" class=\"data row15 col4\" >0.317699</td>\n",
       "            </tr>\n",
       "            <tr>\n",
       "                        <th id=\"T_6f6a9412_c333_11eb_8ffe_6d1e97d52442level0_row16\" class=\"row_heading level0 row16\" >16</th>\n",
       "                        <td id=\"T_6f6a9412_c333_11eb_8ffe_6d1e97d52442row16_col0\" class=\"data row16 col0\" >thyroid-newthyroid</td>\n",
       "                        <td id=\"T_6f6a9412_c333_11eb_8ffe_6d1e97d52442row16_col1\" class=\"data row16 col1\" >0.083721</td>\n",
       "                        <td id=\"T_6f6a9412_c333_11eb_8ffe_6d1e97d52442row16_col2\" class=\"data row16 col2\" >0.009302</td>\n",
       "                        <td id=\"T_6f6a9412_c333_11eb_8ffe_6d1e97d52442row16_col3\" class=\"data row16 col3\" >0.013953</td>\n",
       "                        <td id=\"T_6f6a9412_c333_11eb_8ffe_6d1e97d52442row16_col4\" class=\"data row16 col4\" >0.893023</td>\n",
       "            </tr>\n",
       "    </tbody></table>"
      ],
      "text/plain": [
       "<pandas.io.formats.style.Styler at 0x7eff95362c10>"
      ]
     },
     "execution_count": 10,
     "metadata": {},
     "output_type": "execute_result"
    }
   ],
   "source": [
    "safety_df[sorted(safety_df.filter(regex=(\"dataset|raw\")).columns)].style.highlight_max(color = 'lightgreen', axis = 1)"
   ]
  }
 ],
 "metadata": {
  "kernelspec": {
   "display_name": "Python 3",
   "language": "python",
   "name": "python3"
  },
  "language_info": {
   "codemirror_mode": {
    "name": "ipython",
    "version": 3
   },
   "file_extension": ".py",
   "mimetype": "text/x-python",
   "name": "python",
   "nbconvert_exporter": "python",
   "pygments_lexer": "ipython3",
   "version": "3.7.9"
  }
 },
 "nbformat": 4,
 "nbformat_minor": 4
}
