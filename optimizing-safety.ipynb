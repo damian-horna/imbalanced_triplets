{
 "cells": [
  {
   "cell_type": "code",
   "execution_count": 30,
   "metadata": {},
   "outputs": [],
   "source": [
    "from multi_imbalance.datasets import load_datasets\n",
    "import experiment_safety as ex\n",
    "from sklearn.model_selection import StratifiedKFold\n",
    "from collections import Counter, defaultdict\n",
    "from multi_imbalance.utils.metrics import gmean_score\n",
    "from sklearn.metrics import f1_score\n",
    "from sklearn.ensemble import RandomForestClassifier\n",
    "from sklearn.neighbors import KNeighborsClassifier\n",
    "import numpy as np\n",
    "import pandas as pd\n",
    "from sklearn.tree import DecisionTreeClassifier\n",
    "from utils import plot_embeddings\n",
    "from sklearn.decomposition import PCA\n",
    "import matplotlib.pyplot as plt\n",
    "from sklearn.discriminant_analysis import LinearDiscriminantAnalysis, QuadraticDiscriminantAnalysis"
   ]
  },
  {
   "cell_type": "code",
   "execution_count": 2,
   "metadata": {},
   "outputs": [],
   "source": [
    "datasets = load_datasets()"
   ]
  },
  {
   "cell_type": "code",
   "execution_count": 3,
   "metadata": {},
   "outputs": [],
   "source": [
    "ds_name = 'hayes-roth'\n",
    "test_on_all_folds = False\n",
    "test_all_ds = False"
   ]
  },
  {
   "cell_type": "code",
   "execution_count": 4,
   "metadata": {},
   "outputs": [],
   "source": [
    "datasets = ex.one_hot_encode_all(datasets)"
   ]
  },
  {
   "cell_type": "code",
   "execution_count": 5,
   "metadata": {},
   "outputs": [],
   "source": [
    "config = ex.config_calculation_strategy2(datasets)"
   ]
  },
  {
   "cell_type": "code",
   "execution_count": 6,
   "metadata": {},
   "outputs": [],
   "source": [
    "config['cmc'] = {'nn_config': {'units_1st_layer': 17,\n",
    "                               'units_2nd_layer': 256,\n",
    "                               'units_3rd_layer': 128,\n",
    "                               'units_latent_layer': 8},\n",
    "                 'weighted_triplet_loss': True,\n",
    "                 'lr': 0.0002,\n",
    "                 'batch_size': 16,\n",
    "                 'gamma': 0.99,\n",
    "                 'epochs': 55}\n",
    "\n",
    "\n",
    "config['dermatology'] = {'nn_config': {'units_1st_layer': 97,\n",
    "                                       'units_2nd_layer': 512,\n",
    "                                       'units_3rd_layer': 256,\n",
    "                                       'units_latent_layer': 16},\n",
    "                         'weighted_triplet_loss': True,\n",
    "                         'lr': 0.0010,\n",
    "                         'batch_size': 16,\n",
    "                         'gamma': 0.99,\n",
    "                         'epochs': 45}\n",
    "\n",
    "config['hayes-roth'] = {'nn_config': {'units_1st_layer': 11,\n",
    "                                      'units_2nd_layer': 128,\n",
    "                                      'units_3rd_layer': 64,\n",
    "                                      'units_latent_layer': 16},\n",
    "                        'weighted_triplet_loss': True,\n",
    "                        'lr': 0.0015,\n",
    "                        'batch_size': 16,\n",
    "                        'gamma': 0.99,\n",
    "                        'epochs': 300}\n",
    "\n",
    "config['new_vehicle'] = {'nn_config': {'units_1st_layer': 18,\n",
    "                                       'units_2nd_layer': 256,\n",
    "                                       'units_3rd_layer': 128,\n",
    "                                       'units_latent_layer': 16},\n",
    "                         'weighted_triplet_loss': True,\n",
    "                         'lr': 0.001,\n",
    "                         'batch_size': 16,\n",
    "                         'gamma': 0.99,\n",
    "                         'epochs': 150}\n",
    "\n",
    "config['new_yeast'] = {'nn_config': {'units_1st_layer': 9,\n",
    "                                     'units_2nd_layer': 300,\n",
    "                                     'units_3rd_layer': 200,\n",
    "                                     'units_latent_layer': 12},\n",
    "                       'weighted_triplet_loss': True,\n",
    "                       'lr': 0.0004,\n",
    "                       'batch_size': 32,\n",
    "                       'gamma': 0.99,\n",
    "                       'epochs': 60}\n",
    "\n",
    "config['balance-scale'] = {'nn_config': {'units_1st_layer': 16,\n",
    "                                         'units_2nd_layer': 256,\n",
    "                                         'units_3rd_layer': 128,\n",
    "                                         'units_latent_layer': 10},\n",
    "                           'weighted_triplet_loss': True,\n",
    "                           'lr': 0.007,\n",
    "                           'batch_size': 16,\n",
    "                           'gamma': 0.99,\n",
    "                           'epochs': 100}\n",
    "\n",
    "config['cleveland'] = {'nn_config': {'units_1st_layer': 24,\n",
    "                                     'units_2nd_layer': 72,\n",
    "                                     'units_3rd_layer': 48,\n",
    "                                     'units_latent_layer': 16},\n",
    "                       'weighted_triplet_loss': True,\n",
    "                       'lr': 0.00002,\n",
    "                       'batch_size': 16,\n",
    "                       'gamma': 0.99,\n",
    "                       'epochs': 120}\n",
    "\n",
    "config['cleveland_v2'] = {'nn_config': {'units_1st_layer': 23,\n",
    "                                        'units_2nd_layer': 256,\n",
    "                                        'units_3rd_layer': 128,\n",
    "                                        'units_latent_layer': 16},\n",
    "                          'weighted_triplet_loss': True,\n",
    "                          'lr': 0.00002,\n",
    "                          'batch_size': 16,\n",
    "                          'gamma': 0.99,\n",
    "                          'epochs': 100}\n",
    "\n",
    "config['glass'] = {'nn_config': {'units_1st_layer': 9,\n",
    "                                 'units_2nd_layer': 256,\n",
    "                                 'units_3rd_layer': 128,\n",
    "                                 'units_latent_layer': 12},\n",
    "                   'weighted_triplet_loss': True,\n",
    "                   'lr': 0.001,\n",
    "                   'batch_size': 16,\n",
    "                   'gamma': 0.99,\n",
    "                   'epochs': 120}\n",
    "\n",
    "config['thyroid-newthyroid'] = {'nn_config': {'units_1st_layer': 5,\n",
    "                                              'units_2nd_layer': 64,\n",
    "                                              'units_3rd_layer': 32,\n",
    "                                              'units_latent_layer': 8},\n",
    "                                'weighted_triplet_loss': True,\n",
    "                                'lr': 0.001,\n",
    "                                'batch_size': 16,\n",
    "                                'gamma': 0.99,\n",
    "                                'epochs': 120}\n",
    "\n",
    "config['new_ecoli'] = {'nn_config': {'units_1st_layer': 7,\n",
    "                                     'units_2nd_layer': 128,\n",
    "                                     'units_3rd_layer': 64,\n",
    "                                     'units_latent_layer': 12},\n",
    "                       'weighted_triplet_loss': True,\n",
    "                       'lr': 0.0001,\n",
    "                       'batch_size': 16,\n",
    "                       'gamma': 0.99,\n",
    "                       'epochs': 100}\n",
    "\n",
    "config['new_led7digit'] = {'nn_config': {'units_1st_layer': 7,\n",
    "                                         'units_2nd_layer': 64,\n",
    "                                         'units_3rd_layer': 32,\n",
    "                                         'units_latent_layer': 8},\n",
    "                           'weighted_triplet_loss': True,\n",
    "                           'lr': 0.001,\n",
    "                           'batch_size': 16,\n",
    "                           'gamma': 0.99,\n",
    "                           'epochs': 100}\n",
    "\n",
    "config['new_winequality-red'] = {'nn_config': {'units_1st_layer': 11,\n",
    "                                               'units_2nd_layer': 128,\n",
    "                                               'units_3rd_layer': 64,\n",
    "                                               'units_latent_layer': 12},\n",
    "                                 'weighted_triplet_loss': True,\n",
    "                                 'lr': 0.003,\n",
    "                                 'batch_size': 16,\n",
    "                                 'gamma': 0.99,\n",
    "                                 'epochs': 100}\n",
    "\n",
    "config['4delikatne-bezover-cut'] = {'nn_config': {'units_1st_layer': 2,\n",
    "                                                  'units_2nd_layer': 128,\n",
    "                                                  'units_3rd_layer': 64,\n",
    "                                                  'units_latent_layer': 8},\n",
    "                                    'weighted_triplet_loss': True,\n",
    "                                    'lr': 0.004,\n",
    "                                    'batch_size': 16,\n",
    "                                    'gamma': 0.99,\n",
    "                                    'epochs': 120}\n",
    "\n",
    "config['3mocniej-cut'] = {'nn_config': {'units_1st_layer': 2,\n",
    "                                        'units_2nd_layer': 128,\n",
    "                                        'units_3rd_layer': 64,\n",
    "                                        'units_latent_layer': 10},\n",
    "                          'weighted_triplet_loss': True,\n",
    "                          'lr': 0.04,\n",
    "                          'batch_size': 16,\n",
    "                          'gamma': 0.99,\n",
    "                          'epochs': 90}\n",
    "\n",
    "\n",
    "config['1czysty-cut'] = {'nn_config': {'units_1st_layer': 2,\n",
    "                                       'units_2nd_layer': 64,\n",
    "                                       'units_3rd_layer': 32,\n",
    "                                       'units_latent_layer': 8},\n",
    "                         'weighted_triplet_loss': True,\n",
    "                         'lr': 0.004,\n",
    "                         'batch_size': 16,\n",
    "                         'gamma': 0.99,\n",
    "                         'epochs': 130}\n",
    "\n",
    "config['2delikatne-cut'] = {'nn_config': {'units_1st_layer': 2,\n",
    "                                          'units_2nd_layer': 128,\n",
    "                                          'units_3rd_layer': 64,\n",
    "                                          'units_latent_layer': 12},\n",
    "                            'weighted_triplet_loss': True,\n",
    "                            'lr': 0.04,\n",
    "                            'batch_size': 16,\n",
    "                            'gamma': 0.99,\n",
    "                            'epochs': 90}"
   ]
  },
  {
   "cell_type": "code",
   "execution_count": 7,
   "metadata": {},
   "outputs": [
    {
     "data": {
      "text/plain": [
       "{'1czysty-cut': {'nn_config': {'units_1st_layer': 2,\n",
       "   'units_2nd_layer': 64,\n",
       "   'units_3rd_layer': 32,\n",
       "   'units_latent_layer': 8},\n",
       "  'weighted_triplet_loss': True,\n",
       "  'lr': 0.004,\n",
       "  'batch_size': 16,\n",
       "  'gamma': 0.99,\n",
       "  'epochs': 130},\n",
       " '2delikatne-cut': {'nn_config': {'units_1st_layer': 2,\n",
       "   'units_2nd_layer': 128,\n",
       "   'units_3rd_layer': 64,\n",
       "   'units_latent_layer': 12},\n",
       "  'weighted_triplet_loss': True,\n",
       "  'lr': 0.04,\n",
       "  'batch_size': 16,\n",
       "  'gamma': 0.99,\n",
       "  'epochs': 90},\n",
       " '3mocniej-cut': {'nn_config': {'units_1st_layer': 2,\n",
       "   'units_2nd_layer': 128,\n",
       "   'units_3rd_layer': 64,\n",
       "   'units_latent_layer': 10},\n",
       "  'weighted_triplet_loss': True,\n",
       "  'lr': 0.04,\n",
       "  'batch_size': 16,\n",
       "  'gamma': 0.99,\n",
       "  'epochs': 90},\n",
       " '4delikatne-bezover-cut': {'nn_config': {'units_1st_layer': 2,\n",
       "   'units_2nd_layer': 128,\n",
       "   'units_3rd_layer': 64,\n",
       "   'units_latent_layer': 8},\n",
       "  'weighted_triplet_loss': True,\n",
       "  'lr': 0.004,\n",
       "  'batch_size': 16,\n",
       "  'gamma': 0.99,\n",
       "  'epochs': 120},\n",
       " 'balance-scale': {'nn_config': {'units_1st_layer': 16,\n",
       "   'units_2nd_layer': 256,\n",
       "   'units_3rd_layer': 128,\n",
       "   'units_latent_layer': 10},\n",
       "  'weighted_triplet_loss': True,\n",
       "  'lr': 0.007,\n",
       "  'batch_size': 16,\n",
       "  'gamma': 0.99,\n",
       "  'epochs': 100},\n",
       " 'cleveland': {'nn_config': {'units_1st_layer': 24,\n",
       "   'units_2nd_layer': 72,\n",
       "   'units_3rd_layer': 48,\n",
       "   'units_latent_layer': 16},\n",
       "  'weighted_triplet_loss': True,\n",
       "  'lr': 2e-05,\n",
       "  'batch_size': 16,\n",
       "  'gamma': 0.99,\n",
       "  'epochs': 120},\n",
       " 'cleveland_v2': {'nn_config': {'units_1st_layer': 23,\n",
       "   'units_2nd_layer': 256,\n",
       "   'units_3rd_layer': 128,\n",
       "   'units_latent_layer': 16},\n",
       "  'weighted_triplet_loss': True,\n",
       "  'lr': 2e-05,\n",
       "  'batch_size': 16,\n",
       "  'gamma': 0.99,\n",
       "  'epochs': 100},\n",
       " 'cmc': {'nn_config': {'units_1st_layer': 17,\n",
       "   'units_2nd_layer': 256,\n",
       "   'units_3rd_layer': 128,\n",
       "   'units_latent_layer': 8},\n",
       "  'weighted_triplet_loss': True,\n",
       "  'lr': 0.0002,\n",
       "  'batch_size': 16,\n",
       "  'gamma': 0.99,\n",
       "  'epochs': 55},\n",
       " 'dermatology': {'nn_config': {'units_1st_layer': 97,\n",
       "   'units_2nd_layer': 512,\n",
       "   'units_3rd_layer': 256,\n",
       "   'units_latent_layer': 16},\n",
       "  'weighted_triplet_loss': True,\n",
       "  'lr': 0.001,\n",
       "  'batch_size': 16,\n",
       "  'gamma': 0.99,\n",
       "  'epochs': 45},\n",
       " 'glass': {'nn_config': {'units_1st_layer': 9,\n",
       "   'units_2nd_layer': 256,\n",
       "   'units_3rd_layer': 128,\n",
       "   'units_latent_layer': 12},\n",
       "  'weighted_triplet_loss': True,\n",
       "  'lr': 0.001,\n",
       "  'batch_size': 16,\n",
       "  'gamma': 0.99,\n",
       "  'epochs': 120},\n",
       " 'hayes-roth': {'nn_config': {'units_1st_layer': 11,\n",
       "   'units_2nd_layer': 128,\n",
       "   'units_3rd_layer': 64,\n",
       "   'units_latent_layer': 16},\n",
       "  'weighted_triplet_loss': True,\n",
       "  'lr': 0.0015,\n",
       "  'batch_size': 16,\n",
       "  'gamma': 0.99,\n",
       "  'epochs': 300},\n",
       " 'new_ecoli': {'nn_config': {'units_1st_layer': 7,\n",
       "   'units_2nd_layer': 128,\n",
       "   'units_3rd_layer': 64,\n",
       "   'units_latent_layer': 12},\n",
       "  'weighted_triplet_loss': True,\n",
       "  'lr': 0.0001,\n",
       "  'batch_size': 16,\n",
       "  'gamma': 0.99,\n",
       "  'epochs': 100},\n",
       " 'new_led7digit': {'nn_config': {'units_1st_layer': 7,\n",
       "   'units_2nd_layer': 64,\n",
       "   'units_3rd_layer': 32,\n",
       "   'units_latent_layer': 8},\n",
       "  'weighted_triplet_loss': True,\n",
       "  'lr': 0.001,\n",
       "  'batch_size': 16,\n",
       "  'gamma': 0.99,\n",
       "  'epochs': 100},\n",
       " 'new_vehicle': {'nn_config': {'units_1st_layer': 18,\n",
       "   'units_2nd_layer': 256,\n",
       "   'units_3rd_layer': 128,\n",
       "   'units_latent_layer': 16},\n",
       "  'weighted_triplet_loss': True,\n",
       "  'lr': 0.001,\n",
       "  'batch_size': 16,\n",
       "  'gamma': 0.99,\n",
       "  'epochs': 150},\n",
       " 'new_winequality-red': {'nn_config': {'units_1st_layer': 11,\n",
       "   'units_2nd_layer': 128,\n",
       "   'units_3rd_layer': 64,\n",
       "   'units_latent_layer': 12},\n",
       "  'weighted_triplet_loss': True,\n",
       "  'lr': 0.003,\n",
       "  'batch_size': 16,\n",
       "  'gamma': 0.99,\n",
       "  'epochs': 100},\n",
       " 'new_yeast': {'nn_config': {'units_1st_layer': 9,\n",
       "   'units_2nd_layer': 300,\n",
       "   'units_3rd_layer': 200,\n",
       "   'units_latent_layer': 12},\n",
       "  'weighted_triplet_loss': True,\n",
       "  'lr': 0.0004,\n",
       "  'batch_size': 32,\n",
       "  'gamma': 0.99,\n",
       "  'epochs': 60},\n",
       " 'thyroid-newthyroid': {'nn_config': {'units_1st_layer': 5,\n",
       "   'units_2nd_layer': 64,\n",
       "   'units_3rd_layer': 32,\n",
       "   'units_latent_layer': 8},\n",
       "  'weighted_triplet_loss': True,\n",
       "  'lr': 0.001,\n",
       "  'batch_size': 16,\n",
       "  'gamma': 0.99,\n",
       "  'epochs': 120},\n",
       " 'cmc_encoded': {'nn_config': {'units_1st_layer': 17,\n",
       "   'units_2nd_layer': 51,\n",
       "   'units_3rd_layer': 34,\n",
       "   'units_latent_layer': 8},\n",
       "  'weighted_triplet_loss': True,\n",
       "  'lr': 0.0001,\n",
       "  'batch_size': 32,\n",
       "  'gamma': 0.95,\n",
       "  'epochs': 100},\n",
       " 'dermatology_encoded': {'nn_config': {'units_1st_layer': 97,\n",
       "   'units_2nd_layer': 291,\n",
       "   'units_3rd_layer': 194,\n",
       "   'units_latent_layer': 48},\n",
       "  'weighted_triplet_loss': True,\n",
       "  'lr': 0.0001,\n",
       "  'batch_size': 32,\n",
       "  'gamma': 0.95,\n",
       "  'epochs': 100},\n",
       " 'hayes-roth_encoded': {'nn_config': {'units_1st_layer': 11,\n",
       "   'units_2nd_layer': 33,\n",
       "   'units_3rd_layer': 22,\n",
       "   'units_latent_layer': 5},\n",
       "  'weighted_triplet_loss': True,\n",
       "  'lr': 0.0001,\n",
       "  'batch_size': 32,\n",
       "  'gamma': 0.95,\n",
       "  'epochs': 100},\n",
       " 'new_vehicle_encoded': {'nn_config': {'units_1st_layer': 18,\n",
       "   'units_2nd_layer': 54,\n",
       "   'units_3rd_layer': 36,\n",
       "   'units_latent_layer': 9},\n",
       "  'weighted_triplet_loss': True,\n",
       "  'lr': 0.0001,\n",
       "  'batch_size': 32,\n",
       "  'gamma': 0.95,\n",
       "  'epochs': 100},\n",
       " 'new_yeast_encoded': {'nn_config': {'units_1st_layer': 9,\n",
       "   'units_2nd_layer': 27,\n",
       "   'units_3rd_layer': 18,\n",
       "   'units_latent_layer': 4},\n",
       "  'weighted_triplet_loss': True,\n",
       "  'lr': 0.0001,\n",
       "  'batch_size': 32,\n",
       "  'gamma': 0.95,\n",
       "  'epochs': 100},\n",
       " '1czysty-cut_encoded': {'nn_config': {'units_1st_layer': 2,\n",
       "   'units_2nd_layer': 16,\n",
       "   'units_3rd_layer': 8,\n",
       "   'units_latent_layer': 4},\n",
       "  'weighted_triplet_loss': True,\n",
       "  'lr': 0.0001,\n",
       "  'batch_size': 32,\n",
       "  'gamma': 0.95,\n",
       "  'epochs': 100},\n",
       " '2delikatne-cut_encoded': {'nn_config': {'units_1st_layer': 2,\n",
       "   'units_2nd_layer': 16,\n",
       "   'units_3rd_layer': 8,\n",
       "   'units_latent_layer': 4},\n",
       "  'weighted_triplet_loss': True,\n",
       "  'lr': 0.0001,\n",
       "  'batch_size': 32,\n",
       "  'gamma': 0.95,\n",
       "  'epochs': 100},\n",
       " '3mocniej-cut_encoded': {'nn_config': {'units_1st_layer': 2,\n",
       "   'units_2nd_layer': 16,\n",
       "   'units_3rd_layer': 8,\n",
       "   'units_latent_layer': 4},\n",
       "  'weighted_triplet_loss': True,\n",
       "  'lr': 0.0001,\n",
       "  'batch_size': 32,\n",
       "  'gamma': 0.95,\n",
       "  'epochs': 100},\n",
       " '4delikatne-bezover-cut_encoded': {'nn_config': {'units_1st_layer': 2,\n",
       "   'units_2nd_layer': 16,\n",
       "   'units_3rd_layer': 8,\n",
       "   'units_latent_layer': 4},\n",
       "  'weighted_triplet_loss': True,\n",
       "  'lr': 0.0001,\n",
       "  'batch_size': 32,\n",
       "  'gamma': 0.95,\n",
       "  'epochs': 100},\n",
       " 'balance-scale_encoded': {'nn_config': {'units_1st_layer': 16,\n",
       "   'units_2nd_layer': 48,\n",
       "   'units_3rd_layer': 32,\n",
       "   'units_latent_layer': 8},\n",
       "  'weighted_triplet_loss': True,\n",
       "  'lr': 0.0001,\n",
       "  'batch_size': 32,\n",
       "  'gamma': 0.95,\n",
       "  'epochs': 100},\n",
       " 'cleveland_encoded': {'nn_config': {'units_1st_layer': 24,\n",
       "   'units_2nd_layer': 72,\n",
       "   'units_3rd_layer': 48,\n",
       "   'units_latent_layer': 12},\n",
       "  'weighted_triplet_loss': True,\n",
       "  'lr': 0.0001,\n",
       "  'batch_size': 32,\n",
       "  'gamma': 0.95,\n",
       "  'epochs': 100},\n",
       " 'cleveland_v2_encoded': {'nn_config': {'units_1st_layer': 23,\n",
       "   'units_2nd_layer': 69,\n",
       "   'units_3rd_layer': 46,\n",
       "   'units_latent_layer': 11},\n",
       "  'weighted_triplet_loss': True,\n",
       "  'lr': 0.0001,\n",
       "  'batch_size': 32,\n",
       "  'gamma': 0.95,\n",
       "  'epochs': 100},\n",
       " 'glass_encoded': {'nn_config': {'units_1st_layer': 9,\n",
       "   'units_2nd_layer': 27,\n",
       "   'units_3rd_layer': 18,\n",
       "   'units_latent_layer': 4},\n",
       "  'weighted_triplet_loss': True,\n",
       "  'lr': 0.0001,\n",
       "  'batch_size': 32,\n",
       "  'gamma': 0.95,\n",
       "  'epochs': 100},\n",
       " 'new_ecoli_encoded': {'nn_config': {'units_1st_layer': 7,\n",
       "   'units_2nd_layer': 21,\n",
       "   'units_3rd_layer': 14,\n",
       "   'units_latent_layer': 4},\n",
       "  'weighted_triplet_loss': True,\n",
       "  'lr': 0.0001,\n",
       "  'batch_size': 32,\n",
       "  'gamma': 0.95,\n",
       "  'epochs': 100},\n",
       " 'new_led7digit_encoded': {'nn_config': {'units_1st_layer': 7,\n",
       "   'units_2nd_layer': 21,\n",
       "   'units_3rd_layer': 14,\n",
       "   'units_latent_layer': 4},\n",
       "  'weighted_triplet_loss': True,\n",
       "  'lr': 0.0001,\n",
       "  'batch_size': 32,\n",
       "  'gamma': 0.95,\n",
       "  'epochs': 100},\n",
       " 'new_winequality-red_encoded': {'nn_config': {'units_1st_layer': 11,\n",
       "   'units_2nd_layer': 33,\n",
       "   'units_3rd_layer': 22,\n",
       "   'units_latent_layer': 5},\n",
       "  'weighted_triplet_loss': True,\n",
       "  'lr': 0.0001,\n",
       "  'batch_size': 32,\n",
       "  'gamma': 0.95,\n",
       "  'epochs': 100},\n",
       " 'thyroid-newthyroid_encoded': {'nn_config': {'units_1st_layer': 5,\n",
       "   'units_2nd_layer': 16,\n",
       "   'units_3rd_layer': 10,\n",
       "   'units_latent_layer': 4},\n",
       "  'weighted_triplet_loss': True,\n",
       "  'lr': 0.0001,\n",
       "  'batch_size': 32,\n",
       "  'gamma': 0.95,\n",
       "  'epochs': 100}}"
      ]
     },
     "execution_count": 7,
     "metadata": {},
     "output_type": "execute_result"
    }
   ],
   "source": [
    "config"
   ]
  },
  {
   "cell_type": "code",
   "execution_count": 8,
   "metadata": {},
   "outputs": [],
   "source": [
    "def instantiate_classifiers():\n",
    "    classifiers = {\n",
    "            \"RF24\": RandomForestClassifier(random_state=0, min_samples_leaf=2, min_samples_split=4, class_weight='balanced'),\n",
    "            \"DT\": DecisionTreeClassifier(random_state=0, min_samples_split=4, min_samples_leaf=2, class_weight='balanced'),\n",
    "            \"KNN\": KNeighborsClassifier(n_neighbors=1),\n",
    "            \"QDA\": QuadraticDiscriminantAnalysis(),\n",
    "            \"LDA\": LinearDiscriminantAnalysis()\n",
    "        } \n",
    "    return classifiers"
   ]
  },
  {
   "cell_type": "code",
   "execution_count": 9,
   "metadata": {},
   "outputs": [],
   "source": [
    "from experiment import dt_name_to_cols_to_encode\n"
   ]
  },
  {
   "cell_type": "code",
   "execution_count": 10,
   "metadata": {},
   "outputs": [],
   "source": [
    "from sklearn.neighbors import KNeighborsClassifier\n",
    "\n",
    "def calc_safety5(X,y):\n",
    "    result = {\n",
    "        \"safe\":0,\n",
    "        \"borderline\":0,\n",
    "        \"rare\":0,\n",
    "        \"outlier\":0\n",
    "    }\n",
    "    neigh = KNeighborsClassifier(n_neighbors=5)\n",
    "    neigh.fit(X, y)\n",
    "    neighbors = neigh.kneighbors(X, 5+1, False)\n",
    "    for i, (x, nbors) in enumerate(list(zip(X, neighbors))):\n",
    "#         print(x)\n",
    "#         print(y[i])\n",
    "#         print(nbors[1:])\n",
    "#         print(y[nbors[1:]])\n",
    "        same_class_nbrs = (y[nbors[1:]] == y[i]).sum()\n",
    "        if same_class_nbrs >= 4:\n",
    "            result['safe'] += 1\n",
    "        elif same_class_nbrs >= 2:\n",
    "            result['borderline'] += 1\n",
    "        elif same_class_nbrs == 1:\n",
    "            result['rare'] += 1\n",
    "        else:\n",
    "            result['outlier'] += 1\n",
    "    return result"
   ]
  },
  {
   "cell_type": "code",
   "execution_count": 11,
   "metadata": {},
   "outputs": [],
   "source": [
    "def standardize(X_train, X_test):\n",
    "    means = X_train.mean(axis=0)\n",
    "    stds = X_train.std(axis=0)\n",
    "    return (X_train - means) / (stds+1e-6), (X_test - means) / (stds + 1e-6)"
   ]
  },
  {
   "cell_type": "code",
   "execution_count": 12,
   "metadata": {
    "scrolled": true
   },
   "outputs": [
    {
     "name": "stdout",
     "output_type": "stream",
     "text": [
      "hayes-roth\n"
     ]
    },
    {
     "data": {
      "image/png": "[encoded data removed]",
      "text/plain": [
       "<Figure size 720x504 with 1 Axes>"
      ]
     },
     "metadata": {
      "needs_background": "light"
     },
     "output_type": "display_data"
    },
    {
     "name": "stdout",
     "output_type": "stream",
     "text": [
      "Class cardinalities: Counter({0: 52, 1: 51, 2: 25})\n",
      "Weights: {0: 0.243925770040176, 1: 0.24870862827625786, 2: 0.507365601683566}\n"
     ]
    },
    {
     "name": "stderr",
     "output_type": "stream",
     "text": [
      "100%|██████████| 128/128 [00:00<00:00, 2946.51it/s]\n",
      "100%|██████████| 32/32 [00:00<00:00, 2265.47it/s]\n"
     ]
    },
    {
     "data": {
      "image/png": "[encoded data removed]",
      "text/plain": [
       "<Figure size 432x288 with 1 Axes>"
      ]
     },
     "metadata": {
      "needs_background": "light"
     },
     "output_type": "display_data"
    },
    {
     "data": {
      "image/png": "[encoded data removed]",
      "text/plain": [
       "<Figure size 720x504 with 1 Axes>"
      ]
     },
     "metadata": {
      "needs_background": "light"
     },
     "output_type": "display_data"
    },
    {
     "name": "stdout",
     "output_type": "stream",
     "text": [
      "DT-f1-new-features: 0.897\n",
      "DT-f1-old+new-features: 0.897\n",
      "DT-f1-old-features: 0.872\n",
      "DT-gmean-new-features: 0.895\n",
      "DT-gmean-old+new-features: 0.895\n",
      "DT-gmean-old-features: 0.867\n",
      "KNN-f1-new-features: 0.87\n",
      "KNN-f1-old+new-features: 0.845\n",
      "KNN-f1-old-features: 0.643\n",
      "KNN-gmean-new-features: 0.861\n",
      "KNN-gmean-old+new-features: 0.837\n",
      "KNN-gmean-old-features: 0.619\n",
      "LDA-f1-new-features: 0.845\n",
      "LDA-f1-old+new-features: 0.872\n",
      "LDA-f1-old-features: 0.439\n",
      "LDA-gmean-new-features: 0.837\n",
      "LDA-gmean-old+new-features: 0.867\n",
      "LDA-gmean-old-features: 0.414\n",
      "QDA-f1-new-features: 0.872\n",
      "QDA-f1-old+new-features: 0.872\n",
      "QDA-f1-old-features: 0.54\n",
      "QDA-gmean-new-features: 0.867\n",
      "QDA-gmean-old+new-features: 0.867\n",
      "QDA-gmean-old-features: 0.529\n",
      "RF24-f1-new-features: 0.897\n",
      "RF24-f1-old+new-features: 0.897\n",
      "RF24-f1-old-features: 0.846\n",
      "RF24-gmean-new-features: 0.895\n",
      "RF24-gmean-old+new-features: 0.895\n",
      "RF24-gmean-old-features: 0.84\n"
     ]
    }
   ],
   "source": [
    "result_dict = defaultdict(list)\n",
    "\n",
    "safety_dict = defaultdict(list)\n",
    "\n",
    "if test_all_ds:\n",
    "    ds_names = dt_name_to_cols_to_encode.keys()\n",
    "else:\n",
    "    ds_names = [ds_name]\n",
    "for dataset_name in ds_names:\n",
    "# for dataset_name in list(datasets.keys()):\n",
    "    print(dataset_name)\n",
    "    result_dict[\"dataset\"].append(dataset_name)\n",
    "    fold_result_dict = defaultdict(list)\n",
    "    \n",
    "    safety_dict[\"dataset\"].append(dataset_name)\n",
    "    fold_safety_dict = defaultdict(list)\n",
    "\n",
    "    X, y = datasets[dataset_name]['data'], datasets[dataset_name]['target']\n",
    "    X_encoded, y = datasets[f\"{dataset_name}_encoded\"]['data'], datasets[f\"{dataset_name}_encoded\"]['target']\n",
    "    \n",
    "    skf = StratifiedKFold(n_splits=5, random_state=0, shuffle=True)\n",
    "    n_splits = skf.get_n_splits(X, y)\n",
    "    \n",
    "    folds = []\n",
    "    if test_on_all_folds:\n",
    "        folds = skf.split(X, y)\n",
    "    else:\n",
    "        folds = list(skf.split(X, y))[1:2]\n",
    "        \n",
    "    for train_index, test_index in folds:\n",
    "        X_train, X_test = X[train_index], X[test_index]\n",
    "        X_train_norm, X_test_norm = standardize(X_train, X_test)\n",
    "        y_train, y_test = y[train_index], y[test_index]\n",
    "        \n",
    "        \n",
    "        X_train_enc, X_test_enc = X_encoded[train_index], X_encoded[test_index]\n",
    "        X_train_enc, X_test_enc = standardize(X_train_enc, X_test_enc)\n",
    "        \n",
    "        \n",
    "        # PCA X_train\n",
    "        pca = PCA(n_components=2)\n",
    "        plot_embeddings(pca.fit_transform(X_train), y_train)\n",
    "        plt.title(\"X_train\")\n",
    "        plt.show()\n",
    "        \n",
    "        weights = ex.weights_calculation_strategy1(X_train, y_train)\n",
    "        cfg =  config[dataset_name]\n",
    "        # pretrain ANN triplets\n",
    "        embeddings_train, embeddings_test = ex.train_triplets(X_train_enc, y_train, X_test_enc, y_test, weights,cfg)\n",
    "        \n",
    "        s_dict = calc_safety5(embeddings_test, y_test)\n",
    "        for k, v in s_dict.items():\n",
    "            fold_safety_dict[f\"emb-{k}\"].append(v)\n",
    "            \n",
    "        s_dict = calc_safety5(X_test_enc, y_test)\n",
    "        for k,v in s_dict.items():\n",
    "            fold_safety_dict[f\"raw-{k}\"].append(v)\n",
    "        \n",
    "        # PCA embeddings_train\n",
    "        pca = PCA(n_components=2)\n",
    "        plot_embeddings(pca.fit_transform(embeddings_train), y_train)\n",
    "        plt.title(\"Embeddings_train\")\n",
    "        plt.show()\n",
    "        \n",
    "        X_train_new = np.hstack([X_train_norm, embeddings_train])\n",
    "        X_test_new = np.hstack([X_test_norm, embeddings_test])\n",
    "        \n",
    "        classifiers = instantiate_classifiers()\n",
    "        for clf_name, clf in classifiers.items():\n",
    "            clf.fit(X_train_norm, y_train)\n",
    "            preds = clf.predict(X_test_norm)\n",
    "\n",
    "            gmean = gmean_score(y_test, preds)\n",
    "            f1 = f1_score(y_test, preds, average='macro')\n",
    "            fold_result_dict[f\"{clf_name}-f1-old-features\"].append(f1)\n",
    "            fold_result_dict[f\"{clf_name}-gmean-old-features\"].append(gmean)\n",
    "            \n",
    "        classifiers = instantiate_classifiers()\n",
    "        for clf_name, clf in classifiers.items():\n",
    "            clf.fit(X_train_new, y_train)\n",
    "            preds = clf.predict(X_test_new)\n",
    "\n",
    "            gmean = gmean_score(y_test, preds)\n",
    "            f1 = f1_score(y_test, preds, average='macro')\n",
    "            fold_result_dict[f\"{clf_name}-f1-old+new-features\"].append(f1)\n",
    "            fold_result_dict[f\"{clf_name}-gmean-old+new-features\"].append(gmean)\n",
    "            \n",
    "        classifiers = instantiate_classifiers()\n",
    "        for clf_name, clf in classifiers.items():\n",
    "            clf.fit(embeddings_train, y_train)\n",
    "            preds = clf.predict(embeddings_test)\n",
    "\n",
    "            gmean = gmean_score(y_test, preds)\n",
    "            f1 = f1_score(y_test, preds, average='macro')\n",
    "            fold_result_dict[f\"{clf_name}-f1-new-features\"].append(f1)\n",
    "            fold_result_dict[f\"{clf_name}-gmean-new-features\"].append(gmean)\n",
    "        for key in sorted(list(fold_result_dict.keys())):\n",
    "            print(f\"{key}: {np.round(fold_result_dict[key][-1],3)}\")\n",
    "            \n",
    "    for k in fold_result_dict:\n",
    "        result_dict[k].append(np.mean(fold_result_dict[k]))\n",
    "        \n",
    "    for k in fold_safety_dict:\n",
    "        safety_dict[k].append(np.sum(fold_safety_dict[k]) / X.shape[0])"
   ]
  },
  {
   "cell_type": "code",
   "execution_count": 13,
   "metadata": {},
   "outputs": [],
   "source": [
    "results_df = pd.DataFrame.from_dict(result_dict)"
   ]
  },
  {
   "cell_type": "code",
   "execution_count": 14,
   "metadata": {},
   "outputs": [],
   "source": [
    "# safety_dict['emb-outlier'].append(\"None\")"
   ]
  },
  {
   "cell_type": "code",
   "execution_count": 15,
   "metadata": {},
   "outputs": [],
   "source": [
    "safety_df = pd.DataFrame.from_dict(safety_dict)"
   ]
  },
  {
   "cell_type": "code",
   "execution_count": 16,
   "metadata": {},
   "outputs": [
    {
     "data": {
      "text/html": [
       "<div>\n",
       "<style scoped>\n",
       "    .dataframe tbody tr th:only-of-type {\n",
       "        vertical-align: middle;\n",
       "    }\n",
       "\n",
       "    .dataframe tbody tr th {\n",
       "        vertical-align: top;\n",
       "    }\n",
       "\n",
       "    .dataframe thead th {\n",
       "        text-align: right;\n",
       "    }\n",
       "</style>\n",
       "<table border=\"1\" class=\"dataframe\">\n",
       "  <thead>\n",
       "    <tr style=\"text-align: right;\">\n",
       "      <th></th>\n",
       "      <th>dataset</th>\n",
       "      <th>RF24-f1-old-features</th>\n",
       "      <th>RF24-gmean-old-features</th>\n",
       "      <th>DT-f1-old-features</th>\n",
       "      <th>DT-gmean-old-features</th>\n",
       "      <th>KNN-f1-old-features</th>\n",
       "      <th>KNN-gmean-old-features</th>\n",
       "      <th>QDA-f1-old-features</th>\n",
       "      <th>QDA-gmean-old-features</th>\n",
       "      <th>LDA-f1-old-features</th>\n",
       "      <th>...</th>\n",
       "      <th>RF24-f1-new-features</th>\n",
       "      <th>RF24-gmean-new-features</th>\n",
       "      <th>DT-f1-new-features</th>\n",
       "      <th>DT-gmean-new-features</th>\n",
       "      <th>KNN-f1-new-features</th>\n",
       "      <th>KNN-gmean-new-features</th>\n",
       "      <th>QDA-f1-new-features</th>\n",
       "      <th>QDA-gmean-new-features</th>\n",
       "      <th>LDA-f1-new-features</th>\n",
       "      <th>LDA-gmean-new-features</th>\n",
       "    </tr>\n",
       "  </thead>\n",
       "  <tbody>\n",
       "    <tr>\n",
       "      <th>0</th>\n",
       "      <td>hayes-roth</td>\n",
       "      <td>0.846154</td>\n",
       "      <td>0.839533</td>\n",
       "      <td>0.871605</td>\n",
       "      <td>0.866633</td>\n",
       "      <td>0.643218</td>\n",
       "      <td>0.618573</td>\n",
       "      <td>0.540451</td>\n",
       "      <td>0.528873</td>\n",
       "      <td>0.43922</td>\n",
       "      <td>...</td>\n",
       "      <td>0.897436</td>\n",
       "      <td>0.894608</td>\n",
       "      <td>0.897436</td>\n",
       "      <td>0.894608</td>\n",
       "      <td>0.870065</td>\n",
       "      <td>0.861349</td>\n",
       "      <td>0.871605</td>\n",
       "      <td>0.866633</td>\n",
       "      <td>0.845238</td>\n",
       "      <td>0.836725</td>\n",
       "    </tr>\n",
       "  </tbody>\n",
       "</table>\n",
       "<p>1 rows × 31 columns</p>\n",
       "</div>"
      ],
      "text/plain": [
       "      dataset  RF24-f1-old-features  RF24-gmean-old-features  \\\n",
       "0  hayes-roth              0.846154                 0.839533   \n",
       "\n",
       "   DT-f1-old-features  DT-gmean-old-features  KNN-f1-old-features  \\\n",
       "0            0.871605               0.866633             0.643218   \n",
       "\n",
       "   KNN-gmean-old-features  QDA-f1-old-features  QDA-gmean-old-features  \\\n",
       "0                0.618573             0.540451                0.528873   \n",
       "\n",
       "   LDA-f1-old-features  ...  RF24-f1-new-features  RF24-gmean-new-features  \\\n",
       "0              0.43922  ...              0.897436                 0.894608   \n",
       "\n",
       "   DT-f1-new-features  DT-gmean-new-features  KNN-f1-new-features  \\\n",
       "0            0.897436               0.894608             0.870065   \n",
       "\n",
       "   KNN-gmean-new-features  QDA-f1-new-features  QDA-gmean-new-features  \\\n",
       "0                0.861349             0.871605                0.866633   \n",
       "\n",
       "   LDA-f1-new-features  LDA-gmean-new-features  \n",
       "0             0.845238                0.836725  \n",
       "\n",
       "[1 rows x 31 columns]"
      ]
     },
     "execution_count": 16,
     "metadata": {},
     "output_type": "execute_result"
    }
   ],
   "source": [
    "results_df"
   ]
  },
  {
   "cell_type": "code",
   "execution_count": 17,
   "metadata": {},
   "outputs": [
    {
     "data": {
      "text/html": [
       "<style  type=\"text/css\" >\n",
       "#T_a1b8c1e8_a662_11eb_ae54_dd42a700cc72row0_col4{\n",
       "            background-color:  lightgreen;\n",
       "        }</style><table id=\"T_a1b8c1e8_a662_11eb_ae54_dd42a700cc72\" ><thead>    <tr>        <th class=\"blank level0\" ></th>        <th class=\"col_heading level0 col0\" >dataset</th>        <th class=\"col_heading level0 col1\" >emb-borderline</th>        <th class=\"col_heading level0 col2\" >emb-outlier</th>        <th class=\"col_heading level0 col3\" >emb-rare</th>        <th class=\"col_heading level0 col4\" >emb-safe</th>    </tr></thead><tbody>\n",
       "                <tr>\n",
       "                        <th id=\"T_a1b8c1e8_a662_11eb_ae54_dd42a700cc72level0_row0\" class=\"row_heading level0 row0\" >0</th>\n",
       "                        <td id=\"T_a1b8c1e8_a662_11eb_ae54_dd42a700cc72row0_col0\" class=\"data row0 col0\" >hayes-roth</td>\n",
       "                        <td id=\"T_a1b8c1e8_a662_11eb_ae54_dd42a700cc72row0_col1\" class=\"data row0 col1\" >0.025000</td>\n",
       "                        <td id=\"T_a1b8c1e8_a662_11eb_ae54_dd42a700cc72row0_col2\" class=\"data row0 col2\" >0.012500</td>\n",
       "                        <td id=\"T_a1b8c1e8_a662_11eb_ae54_dd42a700cc72row0_col3\" class=\"data row0 col3\" >0.006250</td>\n",
       "                        <td id=\"T_a1b8c1e8_a662_11eb_ae54_dd42a700cc72row0_col4\" class=\"data row0 col4\" >0.156250</td>\n",
       "            </tr>\n",
       "    </tbody></table>"
      ],
      "text/plain": [
       "<pandas.io.formats.style.Styler at 0x7fb8c10e2510>"
      ]
     },
     "execution_count": 17,
     "metadata": {},
     "output_type": "execute_result"
    }
   ],
   "source": [
    "safety_df[sorted(safety_df.filter(regex=(\"dataset|emb\")).columns)].style.highlight_max(color = 'lightgreen', axis = 1)"
   ]
  },
  {
   "cell_type": "code",
   "execution_count": 18,
   "metadata": {},
   "outputs": [
    {
     "data": {
      "text/html": [
       "<style  type=\"text/css\" >\n",
       "#T_a1bbf48a_a662_11eb_ae54_dd42a700cc72row0_col1{\n",
       "            background-color:  lightgreen;\n",
       "        }</style><table id=\"T_a1bbf48a_a662_11eb_ae54_dd42a700cc72\" ><thead>    <tr>        <th class=\"blank level0\" ></th>        <th class=\"col_heading level0 col0\" >dataset</th>        <th class=\"col_heading level0 col1\" >raw-borderline</th>        <th class=\"col_heading level0 col2\" >raw-outlier</th>        <th class=\"col_heading level0 col3\" >raw-rare</th>        <th class=\"col_heading level0 col4\" >raw-safe</th>    </tr></thead><tbody>\n",
       "                <tr>\n",
       "                        <th id=\"T_a1bbf48a_a662_11eb_ae54_dd42a700cc72level0_row0\" class=\"row_heading level0 row0\" >0</th>\n",
       "                        <td id=\"T_a1bbf48a_a662_11eb_ae54_dd42a700cc72row0_col0\" class=\"data row0 col0\" >hayes-roth</td>\n",
       "                        <td id=\"T_a1bbf48a_a662_11eb_ae54_dd42a700cc72row0_col1\" class=\"data row0 col1\" >0.150000</td>\n",
       "                        <td id=\"T_a1bbf48a_a662_11eb_ae54_dd42a700cc72row0_col2\" class=\"data row0 col2\" >0.006250</td>\n",
       "                        <td id=\"T_a1bbf48a_a662_11eb_ae54_dd42a700cc72row0_col3\" class=\"data row0 col3\" >0.006250</td>\n",
       "                        <td id=\"T_a1bbf48a_a662_11eb_ae54_dd42a700cc72row0_col4\" class=\"data row0 col4\" >0.037500</td>\n",
       "            </tr>\n",
       "    </tbody></table>"
      ],
      "text/plain": [
       "<pandas.io.formats.style.Styler at 0x7fb8c10e2c90>"
      ]
     },
     "execution_count": 18,
     "metadata": {},
     "output_type": "execute_result"
    }
   ],
   "source": [
    "safety_df[sorted(safety_df.filter(regex=(\"dataset|raw\")).columns)].style.highlight_max(color = 'lightgreen', axis = 1)"
   ]
  },
  {
   "cell_type": "code",
   "execution_count": 19,
   "metadata": {},
   "outputs": [
    {
     "data": {
      "text/html": [
       "<style  type=\"text/css\" >\n",
       "#T_a1bddc1e_a662_11eb_ae54_dd42a700cc72row0_col1{\n",
       "            background-color:  lightgreen;\n",
       "        }</style><table id=\"T_a1bddc1e_a662_11eb_ae54_dd42a700cc72\" ><thead>    <tr>        <th class=\"blank level0\" ></th>        <th class=\"col_heading level0 col0\" >dataset</th>        <th class=\"col_heading level0 col1\" >emb-safe</th>        <th class=\"col_heading level0 col2\" >raw-safe</th>    </tr></thead><tbody>\n",
       "                <tr>\n",
       "                        <th id=\"T_a1bddc1e_a662_11eb_ae54_dd42a700cc72level0_row0\" class=\"row_heading level0 row0\" >0</th>\n",
       "                        <td id=\"T_a1bddc1e_a662_11eb_ae54_dd42a700cc72row0_col0\" class=\"data row0 col0\" >hayes-roth</td>\n",
       "                        <td id=\"T_a1bddc1e_a662_11eb_ae54_dd42a700cc72row0_col1\" class=\"data row0 col1\" >0.156250</td>\n",
       "                        <td id=\"T_a1bddc1e_a662_11eb_ae54_dd42a700cc72row0_col2\" class=\"data row0 col2\" >0.037500</td>\n",
       "            </tr>\n",
       "    </tbody></table>"
      ],
      "text/plain": [
       "<pandas.io.formats.style.Styler at 0x7fb8b1359610>"
      ]
     },
     "execution_count": 19,
     "metadata": {},
     "output_type": "execute_result"
    }
   ],
   "source": [
    "safety_df[sorted(safety_df.filter(regex=(\"dataset|.*safe\")).columns)].style.highlight_max(color = 'lightgreen', axis = 1)"
   ]
  },
  {
   "cell_type": "code",
   "execution_count": 20,
   "metadata": {},
   "outputs": [
    {
     "data": {
      "text/html": [
       "<style  type=\"text/css\" >\n",
       "#T_a1bfad32_a662_11eb_ae54_dd42a700cc72row0_col2,#T_a1bfad32_a662_11eb_ae54_dd42a700cc72row0_col3{\n",
       "            background-color:  lightgreen;\n",
       "        }</style><table id=\"T_a1bfad32_a662_11eb_ae54_dd42a700cc72\" ><thead>    <tr>        <th class=\"blank level0\" ></th>        <th class=\"col_heading level0 col0\" >dataset</th>        <th class=\"col_heading level0 col1\" >RF24-f1-old-features</th>        <th class=\"col_heading level0 col2\" >RF24-f1-old+new-features</th>        <th class=\"col_heading level0 col3\" >RF24-f1-new-features</th>    </tr></thead><tbody>\n",
       "                <tr>\n",
       "                        <th id=\"T_a1bfad32_a662_11eb_ae54_dd42a700cc72level0_row0\" class=\"row_heading level0 row0\" >0</th>\n",
       "                        <td id=\"T_a1bfad32_a662_11eb_ae54_dd42a700cc72row0_col0\" class=\"data row0 col0\" >hayes-roth</td>\n",
       "                        <td id=\"T_a1bfad32_a662_11eb_ae54_dd42a700cc72row0_col1\" class=\"data row0 col1\" >0.846154</td>\n",
       "                        <td id=\"T_a1bfad32_a662_11eb_ae54_dd42a700cc72row0_col2\" class=\"data row0 col2\" >0.897436</td>\n",
       "                        <td id=\"T_a1bfad32_a662_11eb_ae54_dd42a700cc72row0_col3\" class=\"data row0 col3\" >0.897436</td>\n",
       "            </tr>\n",
       "    </tbody></table>"
      ],
      "text/plain": [
       "<pandas.io.formats.style.Styler at 0x7fb8b1366290>"
      ]
     },
     "execution_count": 20,
     "metadata": {},
     "output_type": "execute_result"
    }
   ],
   "source": [
    "results_df.filter(regex=(\"dataset|RF24-f1*\")).style.highlight_max(color = 'lightgreen', axis = 1)"
   ]
  },
  {
   "cell_type": "code",
   "execution_count": 21,
   "metadata": {},
   "outputs": [
    {
     "data": {
      "text/html": [
       "<style  type=\"text/css\" >\n",
       "#T_a1c1748c_a662_11eb_ae54_dd42a700cc72row0_col2,#T_a1c1748c_a662_11eb_ae54_dd42a700cc72row0_col3{\n",
       "            background-color:  lightgreen;\n",
       "        }</style><table id=\"T_a1c1748c_a662_11eb_ae54_dd42a700cc72\" ><thead>    <tr>        <th class=\"blank level0\" ></th>        <th class=\"col_heading level0 col0\" >dataset</th>        <th class=\"col_heading level0 col1\" >RF24-gmean-old-features</th>        <th class=\"col_heading level0 col2\" >RF24-gmean-old+new-features</th>        <th class=\"col_heading level0 col3\" >RF24-gmean-new-features</th>    </tr></thead><tbody>\n",
       "                <tr>\n",
       "                        <th id=\"T_a1c1748c_a662_11eb_ae54_dd42a700cc72level0_row0\" class=\"row_heading level0 row0\" >0</th>\n",
       "                        <td id=\"T_a1c1748c_a662_11eb_ae54_dd42a700cc72row0_col0\" class=\"data row0 col0\" >hayes-roth</td>\n",
       "                        <td id=\"T_a1c1748c_a662_11eb_ae54_dd42a700cc72row0_col1\" class=\"data row0 col1\" >0.839533</td>\n",
       "                        <td id=\"T_a1c1748c_a662_11eb_ae54_dd42a700cc72row0_col2\" class=\"data row0 col2\" >0.894608</td>\n",
       "                        <td id=\"T_a1c1748c_a662_11eb_ae54_dd42a700cc72row0_col3\" class=\"data row0 col3\" >0.894608</td>\n",
       "            </tr>\n",
       "    </tbody></table>"
      ],
      "text/plain": [
       "<pandas.io.formats.style.Styler at 0x7fb8b136bb10>"
      ]
     },
     "execution_count": 21,
     "metadata": {},
     "output_type": "execute_result"
    }
   ],
   "source": [
    "results_df.filter(regex=(\"dataset|RF24-gmean*\")).style.highlight_max(color = 'lightgreen', axis = 1)"
   ]
  },
  {
   "cell_type": "code",
   "execution_count": 22,
   "metadata": {},
   "outputs": [
    {
     "data": {
      "text/html": [
       "<style  type=\"text/css\" >\n",
       "#T_a1c358ec_a662_11eb_ae54_dd42a700cc72row0_col2,#T_a1c358ec_a662_11eb_ae54_dd42a700cc72row0_col3{\n",
       "            background-color:  lightgreen;\n",
       "        }</style><table id=\"T_a1c358ec_a662_11eb_ae54_dd42a700cc72\" ><thead>    <tr>        <th class=\"blank level0\" ></th>        <th class=\"col_heading level0 col0\" >dataset</th>        <th class=\"col_heading level0 col1\" >DT-f1-old-features</th>        <th class=\"col_heading level0 col2\" >DT-f1-old+new-features</th>        <th class=\"col_heading level0 col3\" >DT-f1-new-features</th>    </tr></thead><tbody>\n",
       "                <tr>\n",
       "                        <th id=\"T_a1c358ec_a662_11eb_ae54_dd42a700cc72level0_row0\" class=\"row_heading level0 row0\" >0</th>\n",
       "                        <td id=\"T_a1c358ec_a662_11eb_ae54_dd42a700cc72row0_col0\" class=\"data row0 col0\" >hayes-roth</td>\n",
       "                        <td id=\"T_a1c358ec_a662_11eb_ae54_dd42a700cc72row0_col1\" class=\"data row0 col1\" >0.871605</td>\n",
       "                        <td id=\"T_a1c358ec_a662_11eb_ae54_dd42a700cc72row0_col2\" class=\"data row0 col2\" >0.897436</td>\n",
       "                        <td id=\"T_a1c358ec_a662_11eb_ae54_dd42a700cc72row0_col3\" class=\"data row0 col3\" >0.897436</td>\n",
       "            </tr>\n",
       "    </tbody></table>"
      ],
      "text/plain": [
       "<pandas.io.formats.style.Styler at 0x7fb8b136b110>"
      ]
     },
     "execution_count": 22,
     "metadata": {},
     "output_type": "execute_result"
    }
   ],
   "source": [
    "results_df.filter(regex=(\"dataset|DT-f1*\")).style.highlight_max(color = 'lightgreen', axis = 1)"
   ]
  },
  {
   "cell_type": "code",
   "execution_count": 23,
   "metadata": {},
   "outputs": [
    {
     "data": {
      "text/html": [
       "<style  type=\"text/css\" >\n",
       "#T_a1c5e4d6_a662_11eb_ae54_dd42a700cc72row0_col2,#T_a1c5e4d6_a662_11eb_ae54_dd42a700cc72row0_col3{\n",
       "            background-color:  lightgreen;\n",
       "        }</style><table id=\"T_a1c5e4d6_a662_11eb_ae54_dd42a700cc72\" ><thead>    <tr>        <th class=\"blank level0\" ></th>        <th class=\"col_heading level0 col0\" >dataset</th>        <th class=\"col_heading level0 col1\" >DT-gmean-old-features</th>        <th class=\"col_heading level0 col2\" >DT-gmean-old+new-features</th>        <th class=\"col_heading level0 col3\" >DT-gmean-new-features</th>    </tr></thead><tbody>\n",
       "                <tr>\n",
       "                        <th id=\"T_a1c5e4d6_a662_11eb_ae54_dd42a700cc72level0_row0\" class=\"row_heading level0 row0\" >0</th>\n",
       "                        <td id=\"T_a1c5e4d6_a662_11eb_ae54_dd42a700cc72row0_col0\" class=\"data row0 col0\" >hayes-roth</td>\n",
       "                        <td id=\"T_a1c5e4d6_a662_11eb_ae54_dd42a700cc72row0_col1\" class=\"data row0 col1\" >0.866633</td>\n",
       "                        <td id=\"T_a1c5e4d6_a662_11eb_ae54_dd42a700cc72row0_col2\" class=\"data row0 col2\" >0.894608</td>\n",
       "                        <td id=\"T_a1c5e4d6_a662_11eb_ae54_dd42a700cc72row0_col3\" class=\"data row0 col3\" >0.894608</td>\n",
       "            </tr>\n",
       "    </tbody></table>"
      ],
      "text/plain": [
       "<pandas.io.formats.style.Styler at 0x7fb8c684c850>"
      ]
     },
     "execution_count": 23,
     "metadata": {},
     "output_type": "execute_result"
    }
   ],
   "source": [
    "results_df.filter(regex=(\"dataset|DT-gmean*\")).style.highlight_max(color = 'lightgreen', axis = 1)"
   ]
  },
  {
   "cell_type": "code",
   "execution_count": 24,
   "metadata": {},
   "outputs": [
    {
     "data": {
      "text/html": [
       "<style  type=\"text/css\" >\n",
       "#T_a1c78bd8_a662_11eb_ae54_dd42a700cc72row0_col3{\n",
       "            background-color:  lightgreen;\n",
       "        }</style><table id=\"T_a1c78bd8_a662_11eb_ae54_dd42a700cc72\" ><thead>    <tr>        <th class=\"blank level0\" ></th>        <th class=\"col_heading level0 col0\" >dataset</th>        <th class=\"col_heading level0 col1\" >KNN-f1-old-features</th>        <th class=\"col_heading level0 col2\" >KNN-f1-old+new-features</th>        <th class=\"col_heading level0 col3\" >KNN-f1-new-features</th>    </tr></thead><tbody>\n",
       "                <tr>\n",
       "                        <th id=\"T_a1c78bd8_a662_11eb_ae54_dd42a700cc72level0_row0\" class=\"row_heading level0 row0\" >0</th>\n",
       "                        <td id=\"T_a1c78bd8_a662_11eb_ae54_dd42a700cc72row0_col0\" class=\"data row0 col0\" >hayes-roth</td>\n",
       "                        <td id=\"T_a1c78bd8_a662_11eb_ae54_dd42a700cc72row0_col1\" class=\"data row0 col1\" >0.643218</td>\n",
       "                        <td id=\"T_a1c78bd8_a662_11eb_ae54_dd42a700cc72row0_col2\" class=\"data row0 col2\" >0.845238</td>\n",
       "                        <td id=\"T_a1c78bd8_a662_11eb_ae54_dd42a700cc72row0_col3\" class=\"data row0 col3\" >0.870065</td>\n",
       "            </tr>\n",
       "    </tbody></table>"
      ],
      "text/plain": [
       "<pandas.io.formats.style.Styler at 0x7fb8b1440990>"
      ]
     },
     "execution_count": 24,
     "metadata": {},
     "output_type": "execute_result"
    }
   ],
   "source": [
    "results_df.filter(regex=(\"dataset|KNN-f1*\")).style.highlight_max(color = 'lightgreen', axis = 1)"
   ]
  },
  {
   "cell_type": "code",
   "execution_count": 25,
   "metadata": {},
   "outputs": [
    {
     "data": {
      "text/html": [
       "<style  type=\"text/css\" >\n",
       "#T_a1c94338_a662_11eb_ae54_dd42a700cc72row0_col3{\n",
       "            background-color:  lightgreen;\n",
       "        }</style><table id=\"T_a1c94338_a662_11eb_ae54_dd42a700cc72\" ><thead>    <tr>        <th class=\"blank level0\" ></th>        <th class=\"col_heading level0 col0\" >dataset</th>        <th class=\"col_heading level0 col1\" >KNN-gmean-old-features</th>        <th class=\"col_heading level0 col2\" >KNN-gmean-old+new-features</th>        <th class=\"col_heading level0 col3\" >KNN-gmean-new-features</th>    </tr></thead><tbody>\n",
       "                <tr>\n",
       "                        <th id=\"T_a1c94338_a662_11eb_ae54_dd42a700cc72level0_row0\" class=\"row_heading level0 row0\" >0</th>\n",
       "                        <td id=\"T_a1c94338_a662_11eb_ae54_dd42a700cc72row0_col0\" class=\"data row0 col0\" >hayes-roth</td>\n",
       "                        <td id=\"T_a1c94338_a662_11eb_ae54_dd42a700cc72row0_col1\" class=\"data row0 col1\" >0.618573</td>\n",
       "                        <td id=\"T_a1c94338_a662_11eb_ae54_dd42a700cc72row0_col2\" class=\"data row0 col2\" >0.836725</td>\n",
       "                        <td id=\"T_a1c94338_a662_11eb_ae54_dd42a700cc72row0_col3\" class=\"data row0 col3\" >0.861349</td>\n",
       "            </tr>\n",
       "    </tbody></table>"
      ],
      "text/plain": [
       "<pandas.io.formats.style.Styler at 0x7fb8b1366750>"
      ]
     },
     "execution_count": 25,
     "metadata": {},
     "output_type": "execute_result"
    }
   ],
   "source": [
    "results_df.filter(regex=(\"dataset|KNN-gmean*\")).style.highlight_max(color = 'lightgreen', axis = 1)"
   ]
  },
  {
   "cell_type": "code",
   "execution_count": 26,
   "metadata": {},
   "outputs": [
    {
     "data": {
      "text/html": [
       "<style  type=\"text/css\" >\n",
       "#T_a1cbbabe_a662_11eb_ae54_dd42a700cc72row0_col2,#T_a1cbbabe_a662_11eb_ae54_dd42a700cc72row0_col3{\n",
       "            background-color:  lightgreen;\n",
       "        }</style><table id=\"T_a1cbbabe_a662_11eb_ae54_dd42a700cc72\" ><thead>    <tr>        <th class=\"blank level0\" ></th>        <th class=\"col_heading level0 col0\" >dataset</th>        <th class=\"col_heading level0 col1\" >QDA-f1-old-features</th>        <th class=\"col_heading level0 col2\" >QDA-f1-old+new-features</th>        <th class=\"col_heading level0 col3\" >QDA-f1-new-features</th>    </tr></thead><tbody>\n",
       "                <tr>\n",
       "                        <th id=\"T_a1cbbabe_a662_11eb_ae54_dd42a700cc72level0_row0\" class=\"row_heading level0 row0\" >0</th>\n",
       "                        <td id=\"T_a1cbbabe_a662_11eb_ae54_dd42a700cc72row0_col0\" class=\"data row0 col0\" >hayes-roth</td>\n",
       "                        <td id=\"T_a1cbbabe_a662_11eb_ae54_dd42a700cc72row0_col1\" class=\"data row0 col1\" >0.540451</td>\n",
       "                        <td id=\"T_a1cbbabe_a662_11eb_ae54_dd42a700cc72row0_col2\" class=\"data row0 col2\" >0.871605</td>\n",
       "                        <td id=\"T_a1cbbabe_a662_11eb_ae54_dd42a700cc72row0_col3\" class=\"data row0 col3\" >0.871605</td>\n",
       "            </tr>\n",
       "    </tbody></table>"
      ],
      "text/plain": [
       "<pandas.io.formats.style.Styler at 0x7fb8c10ea790>"
      ]
     },
     "execution_count": 26,
     "metadata": {},
     "output_type": "execute_result"
    }
   ],
   "source": [
    "results_df.filter(regex=(\"dataset|QDA-f1*\")).style.highlight_max(color = 'lightgreen', axis = 1)"
   ]
  },
  {
   "cell_type": "code",
   "execution_count": 27,
   "metadata": {},
   "outputs": [
    {
     "data": {
      "text/html": [
       "<style  type=\"text/css\" >\n",
       "#T_a1ce29a2_a662_11eb_ae54_dd42a700cc72row0_col2,#T_a1ce29a2_a662_11eb_ae54_dd42a700cc72row0_col3{\n",
       "            background-color:  lightgreen;\n",
       "        }</style><table id=\"T_a1ce29a2_a662_11eb_ae54_dd42a700cc72\" ><thead>    <tr>        <th class=\"blank level0\" ></th>        <th class=\"col_heading level0 col0\" >dataset</th>        <th class=\"col_heading level0 col1\" >QDA-gmean-old-features</th>        <th class=\"col_heading level0 col2\" >QDA-gmean-old+new-features</th>        <th class=\"col_heading level0 col3\" >QDA-gmean-new-features</th>    </tr></thead><tbody>\n",
       "                <tr>\n",
       "                        <th id=\"T_a1ce29a2_a662_11eb_ae54_dd42a700cc72level0_row0\" class=\"row_heading level0 row0\" >0</th>\n",
       "                        <td id=\"T_a1ce29a2_a662_11eb_ae54_dd42a700cc72row0_col0\" class=\"data row0 col0\" >hayes-roth</td>\n",
       "                        <td id=\"T_a1ce29a2_a662_11eb_ae54_dd42a700cc72row0_col1\" class=\"data row0 col1\" >0.528873</td>\n",
       "                        <td id=\"T_a1ce29a2_a662_11eb_ae54_dd42a700cc72row0_col2\" class=\"data row0 col2\" >0.866633</td>\n",
       "                        <td id=\"T_a1ce29a2_a662_11eb_ae54_dd42a700cc72row0_col3\" class=\"data row0 col3\" >0.866633</td>\n",
       "            </tr>\n",
       "    </tbody></table>"
      ],
      "text/plain": [
       "<pandas.io.formats.style.Styler at 0x7fb8c10f20d0>"
      ]
     },
     "execution_count": 27,
     "metadata": {},
     "output_type": "execute_result"
    }
   ],
   "source": [
    "results_df.filter(regex=(\"dataset|QDA-gmean*\")).style.highlight_max(color = 'lightgreen', axis = 1)"
   ]
  },
  {
   "cell_type": "code",
   "execution_count": 28,
   "metadata": {},
   "outputs": [
    {
     "data": {
      "text/html": [
       "<style  type=\"text/css\" >\n",
       "#T_a1cfdae0_a662_11eb_ae54_dd42a700cc72row0_col2{\n",
       "            background-color:  lightgreen;\n",
       "        }</style><table id=\"T_a1cfdae0_a662_11eb_ae54_dd42a700cc72\" ><thead>    <tr>        <th class=\"blank level0\" ></th>        <th class=\"col_heading level0 col0\" >dataset</th>        <th class=\"col_heading level0 col1\" >LDA-f1-old-features</th>        <th class=\"col_heading level0 col2\" >LDA-f1-old+new-features</th>        <th class=\"col_heading level0 col3\" >LDA-f1-new-features</th>    </tr></thead><tbody>\n",
       "                <tr>\n",
       "                        <th id=\"T_a1cfdae0_a662_11eb_ae54_dd42a700cc72level0_row0\" class=\"row_heading level0 row0\" >0</th>\n",
       "                        <td id=\"T_a1cfdae0_a662_11eb_ae54_dd42a700cc72row0_col0\" class=\"data row0 col0\" >hayes-roth</td>\n",
       "                        <td id=\"T_a1cfdae0_a662_11eb_ae54_dd42a700cc72row0_col1\" class=\"data row0 col1\" >0.439220</td>\n",
       "                        <td id=\"T_a1cfdae0_a662_11eb_ae54_dd42a700cc72row0_col2\" class=\"data row0 col2\" >0.871605</td>\n",
       "                        <td id=\"T_a1cfdae0_a662_11eb_ae54_dd42a700cc72row0_col3\" class=\"data row0 col3\" >0.845238</td>\n",
       "            </tr>\n",
       "    </tbody></table>"
      ],
      "text/plain": [
       "<pandas.io.formats.style.Styler at 0x7fb8b134ff10>"
      ]
     },
     "execution_count": 28,
     "metadata": {},
     "output_type": "execute_result"
    }
   ],
   "source": [
    "results_df.filter(regex=(\"dataset|LDA-f1*\")).style.highlight_max(color = 'lightgreen', axis = 1)"
   ]
  },
  {
   "cell_type": "code",
   "execution_count": 29,
   "metadata": {},
   "outputs": [
    {
     "data": {
      "text/html": [
       "<style  type=\"text/css\" >\n",
       "#T_a1d1724c_a662_11eb_ae54_dd42a700cc72row0_col2{\n",
       "            background-color:  lightgreen;\n",
       "        }</style><table id=\"T_a1d1724c_a662_11eb_ae54_dd42a700cc72\" ><thead>    <tr>        <th class=\"blank level0\" ></th>        <th class=\"col_heading level0 col0\" >dataset</th>        <th class=\"col_heading level0 col1\" >LDA-gmean-old-features</th>        <th class=\"col_heading level0 col2\" >LDA-gmean-old+new-features</th>        <th class=\"col_heading level0 col3\" >LDA-gmean-new-features</th>    </tr></thead><tbody>\n",
       "                <tr>\n",
       "                        <th id=\"T_a1d1724c_a662_11eb_ae54_dd42a700cc72level0_row0\" class=\"row_heading level0 row0\" >0</th>\n",
       "                        <td id=\"T_a1d1724c_a662_11eb_ae54_dd42a700cc72row0_col0\" class=\"data row0 col0\" >hayes-roth</td>\n",
       "                        <td id=\"T_a1d1724c_a662_11eb_ae54_dd42a700cc72row0_col1\" class=\"data row0 col1\" >0.414093</td>\n",
       "                        <td id=\"T_a1d1724c_a662_11eb_ae54_dd42a700cc72row0_col2\" class=\"data row0 col2\" >0.866633</td>\n",
       "                        <td id=\"T_a1d1724c_a662_11eb_ae54_dd42a700cc72row0_col3\" class=\"data row0 col3\" >0.836725</td>\n",
       "            </tr>\n",
       "    </tbody></table>"
      ],
      "text/plain": [
       "<pandas.io.formats.style.Styler at 0x7fb8b1359f50>"
      ]
     },
     "execution_count": 29,
     "metadata": {},
     "output_type": "execute_result"
    }
   ],
   "source": [
    "results_df.filter(regex=(\"dataset|LDA-gmean*\")).style.highlight_max(color = 'lightgreen', axis = 1)"
   ]
  }
 ],
 "metadata": {
  "kernelspec": {
   "display_name": "Python 3",
   "language": "python",
   "name": "python3"
  },
  "language_info": {
   "codemirror_mode": {
    "name": "ipython",
    "version": 3
   },
   "file_extension": ".py",
   "mimetype": "text/x-python",
   "name": "python",
   "nbconvert_exporter": "python",
   "pygments_lexer": "ipython3",
   "version": "3.7.9"
  }
 },
 "nbformat": 4,
 "nbformat_minor": 4
}
